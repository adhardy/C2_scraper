{
 "metadata": {
  "language_info": {
   "codemirror_mode": {
    "name": "ipython",
    "version": 3
   },
   "file_extension": ".py",
   "mimetype": "text/x-python",
   "name": "python",
   "nbconvert_exporter": "python",
   "pygments_lexer": "ipython3",
   "version": "3.8.5-final"
  },
  "orig_nbformat": 2,
  "kernelspec": {
   "name": "python3",
   "display_name": "Python 3",
   "language": "python"
  }
 },
 "nbformat": 4,
 "nbformat_minor": 2,
 "cells": [
  {
   "cell_type": "code",
   "execution_count": 39,
   "metadata": {},
   "outputs": [],
   "source": [
    "import json\n",
    "import pandas as pd\n"
   ]
  },
  {
   "cell_type": "code",
   "execution_count": 32,
   "metadata": {},
   "outputs": [],
   "source": [
    "def load_C2scrape_data(path):\n",
    "    try:\n",
    "        fa = open(path, \"r\")\n",
    "        df = pd.DataFrame.from_dict(json.load(fa)).T\n",
    "    except:\n",
    "        print(\"Could not load workouts data file.\")\n",
    "        df = None\n",
    "    return df\n",
    "\n",
    "df_athletes = load_C2scrape_data(\"output/C2Athletes.json\")\n",
    "\n",
    "df_extended = load_C2scrape_data(\"output/C2Extended.json\")\n",
    "df_workouts = load_C2scrape_data(\"output/C2Workouts.json\")"
   ]
  },
  {
   "cell_type": "code",
   "execution_count": 33,
   "metadata": {},
   "outputs": [
    {
     "output_type": "stream",
     "name": "stdout",
     "text": [
      "                      name availablity age         country        location  \\\n1157105     Benjamin Smith   available  32       Australia   Brisbane, QLD   \n1120032         Jasper Liu   available  26   United States             NaN   \n451524          Chris Gray   available  29   United States     Raleigh, NC   \n1301914  Frederick Hancock   available  19  United Kingdom             NaN   \n1189208        Itai Almogy   available  19   United States             NaN   \n...                    ...         ...  ..             ...             ...   \n1250363          John Oney   available  23   United States   Greenwich, OH   \n737313         Alan Aikens   available  54   United States  Dorchester, MA   \n1210804       George Watts   available  41   United States              UT   \n1083487      Amir Mishriky   available  43           Egypt           Cairo   \n1039194       HELIN GERARD   available  71          France  LA FERTE ALAIS   \n\n                                  team      height  weight logbook id  \\\n1157105                   Fusion Sport   6 ft 0 in  162 lb    1157105   \n1120032                            NaN         NaN     NaN    1120032   \n451524       Row House Raleigh Midtown   6 ft 4 in  190 lb     451524   \n1301914      Forum Flyers (since 2001)   6 ft 2 in  163 lb    1301914   \n1189208                            NaN         NaN     NaN    1189208   \n...                                ...         ...     ...        ...   \n1250363                            NaN  5 ft 10 in  177 lb    1250363   \n737313             Cambridge Boat Club         NaN  238 lb     737313   \n1210804                            NaN   5 ft 7 in  178 lb    1210804   \n1083487  Fitness Matters Indoor Rowing  5 ft 10 in  185 lb    1083487   \n1039194                            NaN   6 ft 2 in  201 lb    1039194   \n\n               member since            retrieved  \\\n1157105  September 28, 2017  13-03-2021 12:24:37   \n1120032   December 30, 2016  13-03-2021 12:24:37   \n451524    November 22, 2007  13-03-2021 12:24:38   \n1301914   December 04, 2019  13-03-2021 12:24:38   \n1189208      March 08, 2018  13-03-2021 12:24:38   \n...                     ...                  ...   \n1250363   February 08, 2019  14-03-2021 14:03:20   \n737313   September 28, 2008  14-03-2021 14:03:20   \n1210804     August 18, 2018  14-03-2021 14:03:23   \n1083487   February 21, 2016  14-03-2021 14:03:29   \n1039194   February 22, 2015  14-03-2021 14:03:38   \n\n                                         affiliation   wingspan website email  \\\n1157105                                          NaN        NaN     NaN   NaN   \n1120032                                          NaN        NaN     NaN   NaN   \n451524   University of North Carolina at Chapel Hill        NaN     NaN   NaN   \n1301914                                 Forum Flyers  6 ft 5 in     NaN   NaN   \n1189208                                          NaN        NaN     NaN   NaN   \n...                                              ...        ...     ...   ...   \n1250363                                          NaN        NaN     NaN   NaN   \n737313                           Cambridge Boat Club        NaN     NaN   NaN   \n1210804                                          NaN        NaN     NaN   NaN   \n1083487                              Fitness Matters        NaN     NaN   NaN   \n1039194                                          NaN  6 ft 4 in     NaN   NaN   \n\n        adaptive rowing category adaptive skiing category  \n1157105                      NaN                      NaN  \n1120032                      NaN                      NaN  \n451524                       NaN                      NaN  \n1301914                      NaN                      NaN  \n1189208                      NaN                      NaN  \n...                          ...                      ...  \n1250363                      NaN                      NaN  \n737313                       NaN                      NaN  \n1210804                      NaN                      NaN  \n1083487                      NaN                      NaN  \n1039194                      NaN                      NaN  \n\n[81027 rows x 17 columns]\n"
     ]
    }
   ],
   "source": [
    "print(df_athletes)"
   ]
  },
  {
   "cell_type": "code",
   "execution_count": 34,
   "metadata": {},
   "outputs": [
    {
     "output_type": "stream",
     "name": "stdout",
     "text": [
      "           age    gender weight class          country verified  \\\n45106891   18      Male          Lwt     United States      Yes   \n51182039   42      Male          Lwt     United States      Yes   \n51157298   32      Male          Lwt         Australia      Yes   \n50803540   24      Male          Lwt            France      Yes   \n49949686   19      Male          Lwt    United Kingdom      Yes   \n...        ...       ...          ...              ...      ...   \n34619955   55    Female           NaN   United Kingdom       No   \n34898628   52    Female           NaN           Norway       No   \n35443299   22    Female           NaN    United States       No   \n34790536   27    Female           NaN    United States      Yes   \n35223315   36    Female           NaN          Belgium       No   \n\n                   type      time distance     pace  \\\n45106891   Indoor Rower   1:00.0      379m   1:19.1   \n51182039   Indoor Rower   1:00.0      366m   1:21.9   \n51157298   Indoor Rower   1:00.0      397m   1:15.5   \n50803540   Indoor Rower   1:00.0      366m   1:21.9   \n49949686   Indoor Rower   1:00.0      389m   1:17.1   \n...                 ...       ...      ...      ...   \n34619955        BikeErg   8:22.0    4,000m   2:05.5   \n34898628        BikeErg   8:23.8    4,000m   2:05.9   \n35443299        BikeErg   8:24.9    4,000m   2:06.2   \n34790536        BikeErg   8:25.6    4,000m   2:06.4   \n35223315        BikeErg   8:34.3    4,000m   2:08.5   \n\n                                  date           entered            retrieved  \\\n45106891                June 13, 2020                Web  13-03-2021 12:24:37   \n51182039    February 02, 2021 18:15:00       ErgData iOS  13-03-2021 12:24:38   \n51157298    February 02, 2021 20:16:00   ErgData Android  13-03-2021 12:24:38   \n50803540     January 23, 2021 23:08:00   ErgData Android  13-03-2021 12:24:39   \n49949686     January 02, 2021 19:28:00       ErgData iOS  13-03-2021 12:24:39   \n...                                ...               ...                  ...   \n34619955   September 07, 2018 18:16:00       ErgData iOS  14-03-2021 14:03:42   \n34898628           September 30, 2018                Web  14-03-2021 14:03:42   \n35443299            November 15, 2018                Web  14-03-2021 14:03:42   \n34790536   September 22, 2018 13:09:00   ErgData Android  14-03-2021 14:03:42   \n35223315             October 28, 2018                Web  14-03-2021 14:03:43   \n\n         race adaptive category  \n45106891  NaN               NaN  \n51182039  NaN               NaN  \n51157298  NaN               NaN  \n50803540  NaN               NaN  \n49949686  NaN               NaN  \n...       ...               ...  \n34619955  NaN               NaN  \n34898628  NaN               NaN  \n35443299  NaN               NaN  \n34790536  NaN               NaN  \n35223315  NaN               NaN  \n\n[331747 rows x 14 columns]\n"
     ]
    }
   ],
   "source": [
    "print(df_extended)"
   ]
  },
  {
   "cell_type": "code",
   "execution_count": 35,
   "metadata": {},
   "outputs": [
    {
     "output_type": "stream",
     "name": "stdout",
     "text": [
      "         pos.               name age           location country  \\\n51157298    1     Benjamin Smith  32      Brisbane, QLD     AUS   \n49949686    2  Frederick Hancock  19               None     GBR   \n48271042    3         Jasper Liu  26               None     USA   \n45106891    4        Itai Almogy  18               None     USA   \n48223141    5         Chris Gray  29        Raleigh, NC     USA   \n...       ...                ...  ..                ...     ...   \n38060086   42      Steven Meador  63     Hershey 🇺🇸, PA     USA   \n36865147    1      Kirsten Kline  30        Houston, TX     USA   \n34894246    2        Katrin Jüch  42          Pattensen     GER   \n33478889    3       Terry Laskey  64    Morrisville, VT     USA   \n36343943    4           Fei Yuan  36  Fresh Meadows, NY     USA   \n\n                                     club/affiliation distance verified  year  \\\n51157298                                         None      397      Yes  2021   \n49949686                                 Forum Flyers      389      Yes  2021   \n48271042                                         None      386      Yes  2021   \n45106891                                         None      379      Yes  2021   \n48223141  University of North Carolina at Chapel Hill      372      Yes  2021   \n...                                               ...      ...      ...   ...   \n38060086           Washington University in St. Louis      NaN      Yes  2019   \n36865147                       Engine by Carson (EBC)      NaN      Yes  2019   \n34894246                               Mobility3sixty      NaN      Yes  2019   \n33478889               Concept2, Inc, Morrisville, VT      NaN      Yes  2019   \n36343943                            CrossFit Flushing      NaN       No  2019   \n\n          machine   event            retrieved profile_id  rower weight  \\\n51157298    rower       1  13-03-2021 12:24:35    1157105  rower      L   \n49949686    rower       1  13-03-2021 12:24:35    1301914  rower      L   \n48271042    rower       1  13-03-2021 12:24:35    1120032  rower      L   \n45106891    rower       1  13-03-2021 12:24:35    1189208  rower      L   \n48223141    rower       1  13-03-2021 12:24:35     451524  rower      L   \n...           ...     ...                  ...        ...    ...    ...   \n38060086  bikeerg  100000  14-03-2021 04:06:48    1060250                 \n36865147  bikeerg  100000  14-03-2021 04:06:50    1223199                 \n34894246  bikeerg  100000  14-03-2021 04:06:50    1189710                 \n33478889  bikeerg  100000  14-03-2021 04:06:50       7270                 \n36343943  bikeerg  100000  14-03-2021 04:06:50    1214385                 \n\n         gender adaptive category       time  \n51157298      M               NaN        NaN  \n49949686      M               NaN        NaN  \n48271042      M               NaN        NaN  \n45106891      M               NaN        NaN  \n48223141      M               NaN        NaN  \n...         ...      ...      ...        ...  \n38060086      M               NaN  4:26:36.6  \n36865147      F               NaN  3:20:23.4  \n34894246      F               NaN  4:11:31.8  \n33478889      F               NaN  4:33:07.0  \n36343943      F               NaN  4:44:30.4  \n\n[331944 rows x 19 columns]\n"
     ]
    }
   ],
   "source": [
    "print(df_workouts)"
   ]
  },
  {
   "cell_type": "code",
   "execution_count": 36,
   "metadata": {},
   "outputs": [
    {
     "output_type": "stream",
     "name": "stdout",
     "text": [
      "Number of workouts: 331944\n",
      "Number of athletes: 81027\n",
      "Number of extended workout data: 331747\n",
      "Indoor rowing machine, workouts by event:\n",
      "                 0\n",
      "event  year       \n",
      "1      2019   2473\n",
      "       2020   2680\n",
      "       2021   6411\n",
      "4      2019   1493\n",
      "       2020   2355\n",
      "       2021   2636\n",
      "30     2019   7659\n",
      "       2020  10468\n",
      "       2021  12668\n",
      "60     2019   3043\n",
      "       2020   3874\n",
      "       2021   5200\n",
      "100    2019   2797\n",
      "       2020   3247\n",
      "       2021   4398\n",
      "500    2019   7061\n",
      "       2020   8604\n",
      "       2021   8749\n",
      "1000   2019  10556\n",
      "       2020  12796\n",
      "       2021  11007\n",
      "2000   2019  15071\n",
      "       2020  16457\n",
      "       2021  18794\n",
      "5000   2019  12346\n",
      "       2020  15565\n",
      "       2021  20350\n",
      "6000   2019   3294\n",
      "       2020   5302\n",
      "       2021   6914\n",
      "10000  2019   8436\n",
      "       2020  10657\n",
      "       2021  15163\n",
      "21097  2019   3225\n",
      "       2020   4144\n",
      "       2021   6239\n",
      "42195  2019   1083\n",
      "       2020   1265\n",
      "       2021   1810\n",
      "100000 2019     57\n",
      "       2020     75\n",
      "       2021    127\n"
     ]
    }
   ],
   "source": [
    "#get basic stats:\n",
    "\n",
    "print(f\"Number of workouts: {len(df_workouts)}\")\n",
    "print(f\"Number of athletes: {len(df_athletes)}\")\n",
    "print(f\"Number of extended workout data: {len(df_extended)}\")\n",
    "\n",
    "print(\"Indoor rowing machine, workouts by event:\")\n",
    "df_workouts_by_year_event = df_workouts[(df_workouts[\"rower\"] == \"rower\") & (df_workouts[\"machine\"] == \"rower\")][[\"event\",\"year\"]].value_counts().to_frame().sort_values(by=[\"event\", \"year\"])\n",
    "\n",
    "print(df_workouts_by_year_event)"
   ]
  }
 ]
}