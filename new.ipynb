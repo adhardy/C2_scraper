{
 "metadata": {
  "language_info": {
   "codemirror_mode": {
    "name": "ipython",
    "version": 3
   },
   "file_extension": ".py",
   "mimetype": "text/x-python",
   "name": "python",
   "nbconvert_exporter": "python",
   "pygments_lexer": "ipython3",
   "version": "3.8.5-final"
  },
  "orig_nbformat": 2,
  "kernelspec": {
   "name": "python3",
   "display_name": "Python 3",
   "language": "python"
  }
 },
 "nbformat": 4,
 "nbformat_minor": 2,
 "cells": [
  {
   "cell_type": "code",
   "execution_count": 3,
   "metadata": {},
   "outputs": [],
   "source": [
    "import json\n",
    "import pandas as pd\n"
   ]
  },
  {
   "cell_type": "code",
   "execution_count": 6,
   "metadata": {},
   "outputs": [],
   "source": [
    "try:\n",
    "    df_athletes = pd.read_json(\"output/C2Athletes_cache.json\", orient='index')\n",
    "except:\n",
    "    print(\"Could not load athletes data file.\")\n",
    "    athletes={}\n",
    "\n",
    "try:\n",
    "    df_workouts = pd.read_json(\"output/C2Rankings.json\", orient='index')\n",
    "except:\n",
    "    print(\"Could not load workouts data file.\")\n",
    "\n",
    "try:\n",
    "    df_extended = pd.read_json(\"output/C2Extended_cache.json\", orient='index')\n",
    "except:\n",
    "    print(\"Could not load extended data file.\")\n",
    "\n",
    "\n",
    "\n",
    "\n",
    "\n",
    "\n"
   ]
  },
  {
   "cell_type": "code",
   "execution_count": 7,
   "metadata": {},
   "outputs": [
    {
     "output_type": "stream",
     "name": "stdout",
     "text": [
      "                      name availablity  age         country       location  \\\n1157105     Benjamin Smith      public   32       Australia  Brisbane, QLD   \n1301914  Frederick Hancock   logged in  NaN             NaN            NaN   \n1120032         Jasper Liu      public   26   United States            NaN   \n1189208        Itai Almogy      public   19   United States            NaN   \n451524          Chris Gray      public   29   United States    Raleigh, NC   \n...                    ...         ...  ...             ...            ...   \n1288299   Mikaela Bonalumi      public   36          Sweden            NaN   \n1338261         Enya Lyons      public   28  United Kingdom            NaN   \n1356761       Naomi McMinn      public   33  United Kingdom            NaN   \n1251102   allyson GYRMAKIS      public   43       Australia            NaN   \n1320188     Mattias Thoren      public   41          Sweden          Malmö   \n\n                              team     height  weight  logbook id  \\\n1157105               Fusion Sport  6 ft 0 in  162 lb   1157105.0   \n1301914                        NaN        NaN     NaN         NaN   \n1120032                        NaN        NaN     NaN   1120032.0   \n1189208                        NaN        NaN     NaN   1189208.0   \n451524   Row House Raleigh Midtown  6 ft 4 in  190 lb    451524.0   \n...                            ...        ...     ...         ...   \n1288299                        NaN        NaN     NaN   1288299.0   \n1338261                        NaN        NaN     NaN   1338261.0   \n1356761                        NaN        NaN     NaN   1356761.0   \n1251102                        NaN        NaN     NaN   1251102.0   \n1320188              Born in 1979!  6 ft 1 in  165 lb   1320188.0   \n\n               member since                                  affiliation  \\\n1157105  September 28, 2017                                          NaN   \n1301914                 NaN                                          NaN   \n1120032   December 30, 2016                                          NaN   \n1189208      March 08, 2018                                          NaN   \n451524    November 22, 2007  University of North Carolina at Chapel Hill   \n...                     ...                                          ...   \n1288299    October 06, 2019                                          NaN   \n1338261      March 24, 2020                           Marlow Rowing Club   \n1356761      April 28, 2020                                          NaN   \n1251102   February 12, 2019               Body coaching high performance   \n1320188   February 02, 2020                                          NaN   \n\n        wingspan website email adaptive rowing category  \\\n1157105      NaN     NaN   NaN                      NaN   \n1301914      NaN     NaN   NaN                      NaN   \n1120032      NaN     NaN   NaN                      NaN   \n1189208      NaN     NaN   NaN                      NaN   \n451524       NaN     NaN   NaN                      NaN   \n...          ...     ...   ...                      ...   \n1288299      NaN     NaN   NaN                      NaN   \n1338261      NaN     NaN   NaN                      NaN   \n1356761      NaN     NaN   NaN                      NaN   \n1251102      NaN     NaN   NaN                      NaN   \n1320188      NaN     NaN   NaN                      NaN   \n\n        adaptive skiing category            retrieved  \n1157105                      NaN                  NaN  \n1301914                      NaN                  NaN  \n1120032                      NaN                  NaN  \n1189208                      NaN                  NaN  \n451524                       NaN                  NaN  \n...                          ...                  ...  \n1288299                      NaN  10-03-2021 12:36:51  \n1338261                      NaN  10-03-2021 12:36:59  \n1356761                      NaN  10-03-2021 12:37:06  \n1251102                      NaN  10-03-2021 12:37:09  \n1320188                      NaN  10-03-2021 12:37:46  \n\n[45799 rows x 17 columns]\n"
     ]
    }
   ],
   "source": [
    "print(df_athletes)"
   ]
  },
  {
   "cell_type": "code",
   "execution_count": 8,
   "metadata": {},
   "outputs": [
    {
     "output_type": "stream",
     "name": "stdout",
     "text": [
      "          pos.               name  age       location country  \\\n51157298     1     Benjamin Smith   32  Brisbane, QLD     AUS   \n49949686     2  Frederick Hancock   19           None     GBR   \n48271042     3         Jasper Liu   26           None     USA   \n45106891     4        Itai Almogy   18           None     USA   \n48223141     5         Chris Gray   29    Raleigh, NC     USA   \n...        ...                ...  ...            ...     ...   \n49499382     1        Darren  fox   39           None     GBR   \n46657166     2      Craig Holgate   43           None     GBR   \n50092065     3     Jason Willmott   50   Bournemouth      GBR   \n44097391     4     Mattias Thoren   40          Malmö     SWE   \n47138733     5    David Rackstraw   38     Sunderland     GBR   \n\n                                     club/affiliation  distance verified  \\\n51157298                                         None     397.0      Yes   \n49949686                                 Forum Flyers     389.0      Yes   \n48271042                                         None     386.0      Yes   \n45106891                                         None     379.0      Yes   \n48223141  University of North Carolina at Chapel Hill     372.0      Yes   \n...                                               ...       ...      ...   \n49499382                                         None       NaN      Yes   \n46657166                                         None       NaN      Yes   \n50092065                                         None       NaN      Yes   \n44097391                                         None       NaN      Yes   \n47138733                                         None       NaN      Yes   \n\n          year machine   event            retrieved  profile_id  rower weight  \\\n51157298  2021   rower       1  10-03-2021 08:24:42   1157105.0  rower      L   \n49949686  2021   rower       1  10-03-2021 08:24:42   1301914.0  rower      L   \n48271042  2021   rower       1  10-03-2021 08:24:42   1120032.0  rower      L   \n45106891  2021   rower       1  10-03-2021 08:24:42   1189208.0  rower      L   \n48223141  2021   rower       1  10-03-2021 08:24:42    451524.0  rower      L   \n...        ...     ...     ...                  ...         ...    ...    ...   \n49499382  2021  skierg  100000  10-03-2021 12:37:39   1364296.0                 \n46657166  2021  skierg  100000  10-03-2021 12:37:41   1340749.0                 \n50092065  2021  skierg  100000  10-03-2021 12:37:42   1368214.0                 \n44097391  2021  skierg  100000  10-03-2021 12:37:43   1320188.0                 \n47138733  2021  skierg  100000  10-03-2021 12:37:46   1108362.0                 \n\n         gender adaptive category       time  \n51157298      M               NaN        NaN  \n49949686      M               NaN        NaN  \n48271042      M               NaN        NaN  \n45106891      M               NaN        NaN  \n48223141      M               NaN        NaN  \n...         ...      ...      ...        ...  \n49499382      M               NaN  7:28:32.7  \n46657166      M               NaN  7:50:42.6  \n50092065      M               NaN  8:00:46.6  \n44097391      M               NaN  8:18:36.6  \n47138733      M               NaN  8:50:29.8  \n\n[133103 rows x 19 columns]\n"
     ]
    }
   ],
   "source": [
    "print(df_workouts)"
   ]
  },
  {
   "cell_type": "code",
   "execution_count": 9,
   "metadata": {},
   "outputs": [
    {
     "output_type": "stream",
     "name": "stdout",
     "text": [
      "          age  gender weight class              country verified  \\\n42306891   42   Male          Lwt         United States      Yes   \n41880731   29   Male          Lwt               Estonia      Yes   \n41040174   37   Male          Lwt        United Kingdom      Yes   \n41162847   44   Male          Lwt    Russian Federation      Yes   \n42161929   17   Male          Lwt         United States       No   \n...       ...     ...          ...                  ...      ...   \n49499382   39   Male           NaN       United Kingdom      Yes   \n46657166   43   Male           NaN       United Kingdom      Yes   \n50092065   50   Male           NaN       United Kingdom      Yes   \n44097391   40   Male           NaN               Sweden      Yes   \n47138733   38   Male           NaN       United Kingdom      Yes   \n\n                   type         time   distance     pace                date  \\\n42306891   Indoor Rower      1:00.0        375m   1:20.0 2020-02-21 12:11:00   \n41880731   Indoor Rower      1:00.0        371m   1:20.8 2019-09-16 00:00:00   \n41040174   Indoor Rower      1:00.0        367m   1:21.7 2019-12-18 00:00:00   \n41162847   Indoor Rower      1:00.0        367m   1:21.7 2019-12-25 17:09:00   \n42161929   Indoor Rower      1:00.0        365m   1:22.1 2020-02-11 00:00:00   \n...                 ...          ...        ...      ...                 ...   \n49499382         SkiErg   7:28:32.7    100,000m   2:14.5 2020-12-19 14:54:00   \n46657166         SkiErg   7:50:42.6    100,000m   2:21.2 2020-09-01 00:00:00   \n50092065         SkiErg   8:00:46.6    100,000m   2:24.2 2020-12-29 00:00:00   \n44097391         SkiErg   8:18:36.6    100,000m   2:29.5 2020-05-02 17:45:00   \n47138733         SkiErg   8:50:29.8    100,000m   2:39.1 2020-09-24 18:13:00   \n\n                    entered  \\\n42306891        ErgData iOS   \n41880731                Web   \n41040174                Web   \n41162847    ErgData Android   \n42161929                Web   \n...                     ...   \n49499382    ErgData Android   \n46657166                Web   \n50092065                Web   \n44097391   Concept2 Utility   \n47138733        ErgData iOS   \n\n                                          adaptive category race  \\\n42306891                                                NaN  NaN   \n41880731    PR3 (PD) (Legs, Trunk, Arms—Physically Disab...  NaN   \n41040174                                                NaN  NaN   \n41162847                                                NaN  NaN   \n42161929                                                NaN  NaN   \n...                                                     ...  ...   \n49499382                                                NaN  NaN   \n46657166                                                NaN  NaN   \n50092065                                                NaN  NaN   \n44097391                                                NaN  NaN   \n47138733                                                NaN  NaN   \n\n                    retrieved  \n42306891                  NaN  \n41880731                  NaN  \n41040174                  NaN  \n41162847                  NaN  \n42161929                  NaN  \n...                       ...  \n49499382  10-03-2021 12:37:41  \n46657166  10-03-2021 12:37:42  \n50092065  10-03-2021 12:37:43  \n44097391  10-03-2021 12:37:45  \n47138733  10-03-2021 12:37:47  \n\n[134319 rows x 14 columns]\n"
     ]
    }
   ],
   "source": [
    "print(df_extended)"
   ]
  },
  {
   "cell_type": "code",
   "execution_count": 69,
   "metadata": {},
   "outputs": [
    {
     "output_type": "stream",
     "name": "stdout",
     "text": [
      "Number of workouts: 133103\nNumber of athletes: 45799\nNumber of extended workout data: 134319\nIndoor rowing machine, workouts by event:\nevent \n5000      20097\n2000      18573\n10000     15034\n30        12533\n1000      10433\n500        8675\n6000       6867\n1          6457\n21097      6216\n60         5160\n100        4427\n4          2612\n42195      1803\n100000      127\ndtype: int64\n"
     ]
    }
   ],
   "source": [
    "#get basic stats:\n",
    "\n",
    "print(\"Number of workouts: {}\".format(len(df_workouts)))\n",
    "print(\"Number of athletes: {}\".format(len(df_athletes)))\n",
    "print(\"Number of extended workout data: {}\".format(len(df_extended)))\n",
    "\n",
    "print(\"Indoor rowing machine, workouts by event:\")\n",
    "print(df_workouts[(df_workouts[\"rower\"] == \"rower\") & (df_workouts[\"machine\"] == \"rower\")][[\"event\"]].value_counts())\n",
    "\n",
    "\n",
    "\n",
    "#print(df_workouts[\"event\"].value_counts())\n",
    "\n",
    "\n",
    "#number of public athlete profiles\n",
    "\n",
    "#number of private athlete profiles\n",
    "#number of logged in only athlete profiles"
   ]
  },
  {
   "cell_type": "code",
   "execution_count": null,
   "metadata": {},
   "outputs": [],
   "source": []
  }
 ]
}