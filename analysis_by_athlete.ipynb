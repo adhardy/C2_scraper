{
 "metadata": {
  "language_info": {
   "codemirror_mode": {
    "name": "ipython",
    "version": 3
   },
   "file_extension": ".py",
   "mimetype": "text/x-python",
   "name": "python",
   "nbconvert_exporter": "python",
   "pygments_lexer": "ipython3",
   "version": "3.8.5-final"
  },
  "orig_nbformat": 2,
  "kernelspec": {
   "name": "python3",
   "display_name": "Python 3",
   "language": "python"
  }
 },
 "nbformat": 4,
 "nbformat_minor": 2,
 "cells": [
  {
   "cell_type": "code",
   "execution_count": 1,
   "metadata": {},
   "outputs": [],
   "source": [
    "import json\n",
    "import pandas as pd\n",
    "import C2Analyse\n",
    "import C2Analyse as C2A\n",
    "import matplotlib.pyplot as plt\n",
    "import importlib\n",
    "import re\n",
    "import missingno as msno\n",
    "import plotly.express as px\n",
    "import numpy as np\n",
    "from datetime import datetime\n",
    "importlib.reload(C2A)\n",
    "from sklearn.impute import KNNImputer\n",
    "from sklearn.preprocessing import LabelBinarizer, LabelEncoder\n",
    "\n",
    "pd.options.display.max_columns = None\n",
    "reload_data = 0\n",
    "verbose = 1\n",
    "path_folder = \"./output_2021-2019/\"\n",
    "\n",
    "clean = C2A.Clean(verbose=verbose)\n",
    "\n",
    "def percent_complete(df):\n",
    "    print(df.notnull().mean()*100)"
   ]
  },
  {
   "cell_type": "code",
   "execution_count": 2,
   "metadata": {},
   "outputs": [],
   "source": [
    "if reload_data == 1:\n",
    "    clean.load_JSON(path_folder=path_folder)"
   ]
  },
  {
   "cell_type": "code",
   "execution_count": 3,
   "metadata": {},
   "outputs": [
    {
     "output_type": "stream",
     "name": "stderr",
     "text": [
      "/home/adam/miniconda3/lib/python3.8/site-packages/IPython/core/interactiveshell.py:3427: DtypeWarning: Columns (3) have mixed types.Specify dtype option on import or set low_memory=False.\n",
      "  exec(code_obj, self.user_global_ns, self.user_ns)\n",
      "/home/adam/miniconda3/lib/python3.8/site-packages/IPython/core/interactiveshell.py:3427: DtypeWarning: Columns (14,15) have mixed types.Specify dtype option on import or set low_memory=False.\n",
      "  exec(code_obj, self.user_global_ns, self.user_ns)\n"
     ]
    },
    {
     "output_type": "display_data",
     "data": {
      "text/plain": "       profile_id               name availablity age         country  \\\n0         1157105     Benjamin Smith   available  32       Australia   \n1         1120032         Jasper Liu   available  26   United States   \n2          451524         Chris Gray   available  29   United States   \n3         1301914  Frederick Hancock   available  19  United Kingdom   \n4         1189208        Itai Almogy   available  19   United States   \n...           ...                ...         ...  ..             ...   \n81022     1250363          John Oney   available  23   United States   \n81023      737313        Alan Aikens   available  54   United States   \n81024     1210804       George Watts   available  41   United States   \n81025     1083487      Amir Mishriky   available  43           Egypt   \n81026     1039194       HELIN GERARD   available  71          France   \n\n             location                           team      height  weight  \\\n0       Brisbane, QLD                   Fusion Sport   6 ft 0 in  162 lb   \n1                 NaN                            NaN         NaN     NaN   \n2         Raleigh, NC      Row House Raleigh Midtown   6 ft 4 in  190 lb   \n3                 NaN      Forum Flyers (since 2001)   6 ft 2 in  163 lb   \n4                 NaN                            NaN         NaN     NaN   \n...               ...                            ...         ...     ...   \n81022   Greenwich, OH                            NaN  5 ft 10 in  177 lb   \n81023  Dorchester, MA            Cambridge Boat Club         NaN  238 lb   \n81024              UT                            NaN   5 ft 7 in  178 lb   \n81025           Cairo  Fitness Matters Indoor Rowing  5 ft 10 in  185 lb   \n81026  LA FERTE ALAIS                            NaN   6 ft 2 in  201 lb   \n\n       logbook id        member since            retrieved  \\\n0       1157105.0  September 28, 2017  13-03-2021 12:24:37   \n1       1120032.0   December 30, 2016  13-03-2021 12:24:37   \n2        451524.0   November 22, 2007  13-03-2021 12:24:38   \n3       1301914.0   December 04, 2019  13-03-2021 12:24:38   \n4       1189208.0      March 08, 2018  13-03-2021 12:24:38   \n...           ...                 ...                  ...   \n81022   1250363.0   February 08, 2019  14-03-2021 14:03:20   \n81023    737313.0  September 28, 2008  14-03-2021 14:03:20   \n81024   1210804.0     August 18, 2018  14-03-2021 14:03:23   \n81025   1083487.0   February 21, 2016  14-03-2021 14:03:29   \n81026   1039194.0   February 22, 2015  14-03-2021 14:03:38   \n\n                                       affiliation   wingspan  website  email  \\\n0                                              NaN        NaN      NaN    NaN   \n1                                              NaN        NaN      NaN    NaN   \n2      University of North Carolina at Chapel Hill        NaN      NaN    NaN   \n3                                     Forum Flyers  6 ft 5 in      NaN    NaN   \n4                                              NaN        NaN      NaN    NaN   \n...                                            ...        ...      ...    ...   \n81022                                          NaN        NaN      NaN    NaN   \n81023                          Cambridge Boat Club        NaN      NaN    NaN   \n81024                                          NaN        NaN      NaN    NaN   \n81025                              Fitness Matters        NaN      NaN    NaN   \n81026                                          NaN  6 ft 4 in      NaN    NaN   \n\n      adaptive rowing category adaptive skiing category  \n0                          NaN                      NaN  \n1                          NaN                      NaN  \n2                          NaN                      NaN  \n3                          NaN                      NaN  \n4                          NaN                      NaN  \n...                        ...                      ...  \n81022                      NaN                      NaN  \n81023                      NaN                      NaN  \n81024                      NaN                      NaN  \n81025                      NaN                      NaN  \n81026                      NaN                      NaN  \n\n[81027 rows x 18 columns]",
      "text/html": "<div>\n<style scoped>\n    .dataframe tbody tr th:only-of-type {\n        vertical-align: middle;\n    }\n\n    .dataframe tbody tr th {\n        vertical-align: top;\n    }\n\n    .dataframe thead th {\n        text-align: right;\n    }\n</style>\n<table border=\"1\" class=\"dataframe\">\n  <thead>\n    <tr style=\"text-align: right;\">\n      <th></th>\n      <th>profile_id</th>\n      <th>name</th>\n      <th>availablity</th>\n      <th>age</th>\n      <th>country</th>\n      <th>location</th>\n      <th>team</th>\n      <th>height</th>\n      <th>weight</th>\n      <th>logbook id</th>\n      <th>member since</th>\n      <th>retrieved</th>\n      <th>affiliation</th>\n      <th>wingspan</th>\n      <th>website</th>\n      <th>email</th>\n      <th>adaptive rowing category</th>\n      <th>adaptive skiing category</th>\n    </tr>\n  </thead>\n  <tbody>\n    <tr>\n      <th>0</th>\n      <td>1157105</td>\n      <td>Benjamin Smith</td>\n      <td>available</td>\n      <td>32</td>\n      <td>Australia</td>\n      <td>Brisbane, QLD</td>\n      <td>Fusion Sport</td>\n      <td>6 ft 0 in</td>\n      <td>162 lb</td>\n      <td>1157105.0</td>\n      <td>September 28, 2017</td>\n      <td>13-03-2021 12:24:37</td>\n      <td>NaN</td>\n      <td>NaN</td>\n      <td>NaN</td>\n      <td>NaN</td>\n      <td>NaN</td>\n      <td>NaN</td>\n    </tr>\n    <tr>\n      <th>1</th>\n      <td>1120032</td>\n      <td>Jasper Liu</td>\n      <td>available</td>\n      <td>26</td>\n      <td>United States</td>\n      <td>NaN</td>\n      <td>NaN</td>\n      <td>NaN</td>\n      <td>NaN</td>\n      <td>1120032.0</td>\n      <td>December 30, 2016</td>\n      <td>13-03-2021 12:24:37</td>\n      <td>NaN</td>\n      <td>NaN</td>\n      <td>NaN</td>\n      <td>NaN</td>\n      <td>NaN</td>\n      <td>NaN</td>\n    </tr>\n    <tr>\n      <th>2</th>\n      <td>451524</td>\n      <td>Chris Gray</td>\n      <td>available</td>\n      <td>29</td>\n      <td>United States</td>\n      <td>Raleigh, NC</td>\n      <td>Row House Raleigh Midtown</td>\n      <td>6 ft 4 in</td>\n      <td>190 lb</td>\n      <td>451524.0</td>\n      <td>November 22, 2007</td>\n      <td>13-03-2021 12:24:38</td>\n      <td>University of North Carolina at Chapel Hill</td>\n      <td>NaN</td>\n      <td>NaN</td>\n      <td>NaN</td>\n      <td>NaN</td>\n      <td>NaN</td>\n    </tr>\n    <tr>\n      <th>3</th>\n      <td>1301914</td>\n      <td>Frederick Hancock</td>\n      <td>available</td>\n      <td>19</td>\n      <td>United Kingdom</td>\n      <td>NaN</td>\n      <td>Forum Flyers (since 2001)</td>\n      <td>6 ft 2 in</td>\n      <td>163 lb</td>\n      <td>1301914.0</td>\n      <td>December 04, 2019</td>\n      <td>13-03-2021 12:24:38</td>\n      <td>Forum Flyers</td>\n      <td>6 ft 5 in</td>\n      <td>NaN</td>\n      <td>NaN</td>\n      <td>NaN</td>\n      <td>NaN</td>\n    </tr>\n    <tr>\n      <th>4</th>\n      <td>1189208</td>\n      <td>Itai Almogy</td>\n      <td>available</td>\n      <td>19</td>\n      <td>United States</td>\n      <td>NaN</td>\n      <td>NaN</td>\n      <td>NaN</td>\n      <td>NaN</td>\n      <td>1189208.0</td>\n      <td>March 08, 2018</td>\n      <td>13-03-2021 12:24:38</td>\n      <td>NaN</td>\n      <td>NaN</td>\n      <td>NaN</td>\n      <td>NaN</td>\n      <td>NaN</td>\n      <td>NaN</td>\n    </tr>\n    <tr>\n      <th>...</th>\n      <td>...</td>\n      <td>...</td>\n      <td>...</td>\n      <td>...</td>\n      <td>...</td>\n      <td>...</td>\n      <td>...</td>\n      <td>...</td>\n      <td>...</td>\n      <td>...</td>\n      <td>...</td>\n      <td>...</td>\n      <td>...</td>\n      <td>...</td>\n      <td>...</td>\n      <td>...</td>\n      <td>...</td>\n      <td>...</td>\n    </tr>\n    <tr>\n      <th>81022</th>\n      <td>1250363</td>\n      <td>John Oney</td>\n      <td>available</td>\n      <td>23</td>\n      <td>United States</td>\n      <td>Greenwich, OH</td>\n      <td>NaN</td>\n      <td>5 ft 10 in</td>\n      <td>177 lb</td>\n      <td>1250363.0</td>\n      <td>February 08, 2019</td>\n      <td>14-03-2021 14:03:20</td>\n      <td>NaN</td>\n      <td>NaN</td>\n      <td>NaN</td>\n      <td>NaN</td>\n      <td>NaN</td>\n      <td>NaN</td>\n    </tr>\n    <tr>\n      <th>81023</th>\n      <td>737313</td>\n      <td>Alan Aikens</td>\n      <td>available</td>\n      <td>54</td>\n      <td>United States</td>\n      <td>Dorchester, MA</td>\n      <td>Cambridge Boat Club</td>\n      <td>NaN</td>\n      <td>238 lb</td>\n      <td>737313.0</td>\n      <td>September 28, 2008</td>\n      <td>14-03-2021 14:03:20</td>\n      <td>Cambridge Boat Club</td>\n      <td>NaN</td>\n      <td>NaN</td>\n      <td>NaN</td>\n      <td>NaN</td>\n      <td>NaN</td>\n    </tr>\n    <tr>\n      <th>81024</th>\n      <td>1210804</td>\n      <td>George Watts</td>\n      <td>available</td>\n      <td>41</td>\n      <td>United States</td>\n      <td>UT</td>\n      <td>NaN</td>\n      <td>5 ft 7 in</td>\n      <td>178 lb</td>\n      <td>1210804.0</td>\n      <td>August 18, 2018</td>\n      <td>14-03-2021 14:03:23</td>\n      <td>NaN</td>\n      <td>NaN</td>\n      <td>NaN</td>\n      <td>NaN</td>\n      <td>NaN</td>\n      <td>NaN</td>\n    </tr>\n    <tr>\n      <th>81025</th>\n      <td>1083487</td>\n      <td>Amir Mishriky</td>\n      <td>available</td>\n      <td>43</td>\n      <td>Egypt</td>\n      <td>Cairo</td>\n      <td>Fitness Matters Indoor Rowing</td>\n      <td>5 ft 10 in</td>\n      <td>185 lb</td>\n      <td>1083487.0</td>\n      <td>February 21, 2016</td>\n      <td>14-03-2021 14:03:29</td>\n      <td>Fitness Matters</td>\n      <td>NaN</td>\n      <td>NaN</td>\n      <td>NaN</td>\n      <td>NaN</td>\n      <td>NaN</td>\n    </tr>\n    <tr>\n      <th>81026</th>\n      <td>1039194</td>\n      <td>HELIN GERARD</td>\n      <td>available</td>\n      <td>71</td>\n      <td>France</td>\n      <td>LA FERTE ALAIS</td>\n      <td>NaN</td>\n      <td>6 ft 2 in</td>\n      <td>201 lb</td>\n      <td>1039194.0</td>\n      <td>February 22, 2015</td>\n      <td>14-03-2021 14:03:38</td>\n      <td>NaN</td>\n      <td>6 ft 4 in</td>\n      <td>NaN</td>\n      <td>NaN</td>\n      <td>NaN</td>\n      <td>NaN</td>\n    </tr>\n  </tbody>\n</table>\n<p>81027 rows × 18 columns</p>\n</div>"
     },
     "metadata": {}
    },
    {
     "output_type": "display_data",
     "data": {
      "text/plain": "        workout_id   age    gender weight class          country verified  \\\n0         45106891  18.0     Male          Lwt     United States      Yes   \n1         51182039  42.0     Male          Lwt     United States      Yes   \n2         51157298  32.0     Male          Lwt         Australia      Yes   \n3         50803540  24.0     Male          Lwt            France      Yes   \n4         49949686  19.0     Male          Lwt    United Kingdom      Yes   \n...            ...   ...       ...          ...              ...      ...   \n331742    34619955  55.0   Female           NaN   United Kingdom       No   \n331743    34898628  52.0   Female           NaN           Norway       No   \n331744    35443299  22.0   Female           NaN    United States       No   \n331745    34790536  27.0   Female           NaN    United States      Yes   \n331746    35223315  36.0   Female           NaN          Belgium       No   \n\n                 type      time distance     pace  \\\n0        Indoor Rower   1:00.0      379m   1:19.1   \n1        Indoor Rower   1:00.0      366m   1:21.9   \n2        Indoor Rower   1:00.0      397m   1:15.5   \n3        Indoor Rower   1:00.0      366m   1:21.9   \n4        Indoor Rower   1:00.0      389m   1:17.1   \n...               ...       ...      ...      ...   \n331742        BikeErg   8:22.0    4,000m   2:05.5   \n331743        BikeErg   8:23.8    4,000m   2:05.9   \n331744        BikeErg   8:24.9    4,000m   2:06.2   \n331745        BikeErg   8:25.6    4,000m   2:06.4   \n331746        BikeErg   8:34.3    4,000m   2:08.5   \n\n                                date           entered            retrieved  \\\n0                     June 13, 2020                Web  13-03-2021 12:24:37   \n1         February 02, 2021 18:15:00       ErgData iOS  13-03-2021 12:24:38   \n2         February 02, 2021 20:16:00   ErgData Android  13-03-2021 12:24:38   \n3          January 23, 2021 23:08:00   ErgData Android  13-03-2021 12:24:39   \n4          January 02, 2021 19:28:00       ErgData iOS  13-03-2021 12:24:39   \n...                              ...               ...                  ...   \n331742   September 07, 2018 18:16:00       ErgData iOS  14-03-2021 14:03:42   \n331743           September 30, 2018                Web  14-03-2021 14:03:42   \n331744            November 15, 2018                Web  14-03-2021 14:03:42   \n331745   September 22, 2018 13:09:00   ErgData Android  14-03-2021 14:03:42   \n331746             October 28, 2018                Web  14-03-2021 14:03:43   \n\n       race adaptive category  \n0       NaN               NaN  \n1       NaN               NaN  \n2       NaN               NaN  \n3       NaN               NaN  \n4       NaN               NaN  \n...     ...               ...  \n331742  NaN               NaN  \n331743  NaN               NaN  \n331744  NaN               NaN  \n331745  NaN               NaN  \n331746  NaN               NaN  \n\n[331747 rows x 15 columns]",
      "text/html": "<div>\n<style scoped>\n    .dataframe tbody tr th:only-of-type {\n        vertical-align: middle;\n    }\n\n    .dataframe tbody tr th {\n        vertical-align: top;\n    }\n\n    .dataframe thead th {\n        text-align: right;\n    }\n</style>\n<table border=\"1\" class=\"dataframe\">\n  <thead>\n    <tr style=\"text-align: right;\">\n      <th></th>\n      <th>workout_id</th>\n      <th>age</th>\n      <th>gender</th>\n      <th>weight class</th>\n      <th>country</th>\n      <th>verified</th>\n      <th>type</th>\n      <th>time</th>\n      <th>distance</th>\n      <th>pace</th>\n      <th>date</th>\n      <th>entered</th>\n      <th>retrieved</th>\n      <th>race</th>\n      <th>adaptive category</th>\n    </tr>\n  </thead>\n  <tbody>\n    <tr>\n      <th>0</th>\n      <td>45106891</td>\n      <td>18.0</td>\n      <td>Male</td>\n      <td>Lwt</td>\n      <td>United States</td>\n      <td>Yes</td>\n      <td>Indoor Rower</td>\n      <td>1:00.0</td>\n      <td>379m</td>\n      <td>1:19.1</td>\n      <td>June 13, 2020</td>\n      <td>Web</td>\n      <td>13-03-2021 12:24:37</td>\n      <td>NaN</td>\n      <td>NaN</td>\n    </tr>\n    <tr>\n      <th>1</th>\n      <td>51182039</td>\n      <td>42.0</td>\n      <td>Male</td>\n      <td>Lwt</td>\n      <td>United States</td>\n      <td>Yes</td>\n      <td>Indoor Rower</td>\n      <td>1:00.0</td>\n      <td>366m</td>\n      <td>1:21.9</td>\n      <td>February 02, 2021 18:15:00</td>\n      <td>ErgData iOS</td>\n      <td>13-03-2021 12:24:38</td>\n      <td>NaN</td>\n      <td>NaN</td>\n    </tr>\n    <tr>\n      <th>2</th>\n      <td>51157298</td>\n      <td>32.0</td>\n      <td>Male</td>\n      <td>Lwt</td>\n      <td>Australia</td>\n      <td>Yes</td>\n      <td>Indoor Rower</td>\n      <td>1:00.0</td>\n      <td>397m</td>\n      <td>1:15.5</td>\n      <td>February 02, 2021 20:16:00</td>\n      <td>ErgData Android</td>\n      <td>13-03-2021 12:24:38</td>\n      <td>NaN</td>\n      <td>NaN</td>\n    </tr>\n    <tr>\n      <th>3</th>\n      <td>50803540</td>\n      <td>24.0</td>\n      <td>Male</td>\n      <td>Lwt</td>\n      <td>France</td>\n      <td>Yes</td>\n      <td>Indoor Rower</td>\n      <td>1:00.0</td>\n      <td>366m</td>\n      <td>1:21.9</td>\n      <td>January 23, 2021 23:08:00</td>\n      <td>ErgData Android</td>\n      <td>13-03-2021 12:24:39</td>\n      <td>NaN</td>\n      <td>NaN</td>\n    </tr>\n    <tr>\n      <th>4</th>\n      <td>49949686</td>\n      <td>19.0</td>\n      <td>Male</td>\n      <td>Lwt</td>\n      <td>United Kingdom</td>\n      <td>Yes</td>\n      <td>Indoor Rower</td>\n      <td>1:00.0</td>\n      <td>389m</td>\n      <td>1:17.1</td>\n      <td>January 02, 2021 19:28:00</td>\n      <td>ErgData iOS</td>\n      <td>13-03-2021 12:24:39</td>\n      <td>NaN</td>\n      <td>NaN</td>\n    </tr>\n    <tr>\n      <th>...</th>\n      <td>...</td>\n      <td>...</td>\n      <td>...</td>\n      <td>...</td>\n      <td>...</td>\n      <td>...</td>\n      <td>...</td>\n      <td>...</td>\n      <td>...</td>\n      <td>...</td>\n      <td>...</td>\n      <td>...</td>\n      <td>...</td>\n      <td>...</td>\n      <td>...</td>\n    </tr>\n    <tr>\n      <th>331742</th>\n      <td>34619955</td>\n      <td>55.0</td>\n      <td>Female</td>\n      <td>NaN</td>\n      <td>United Kingdom</td>\n      <td>No</td>\n      <td>BikeErg</td>\n      <td>8:22.0</td>\n      <td>4,000m</td>\n      <td>2:05.5</td>\n      <td>September 07, 2018 18:16:00</td>\n      <td>ErgData iOS</td>\n      <td>14-03-2021 14:03:42</td>\n      <td>NaN</td>\n      <td>NaN</td>\n    </tr>\n    <tr>\n      <th>331743</th>\n      <td>34898628</td>\n      <td>52.0</td>\n      <td>Female</td>\n      <td>NaN</td>\n      <td>Norway</td>\n      <td>No</td>\n      <td>BikeErg</td>\n      <td>8:23.8</td>\n      <td>4,000m</td>\n      <td>2:05.9</td>\n      <td>September 30, 2018</td>\n      <td>Web</td>\n      <td>14-03-2021 14:03:42</td>\n      <td>NaN</td>\n      <td>NaN</td>\n    </tr>\n    <tr>\n      <th>331744</th>\n      <td>35443299</td>\n      <td>22.0</td>\n      <td>Female</td>\n      <td>NaN</td>\n      <td>United States</td>\n      <td>No</td>\n      <td>BikeErg</td>\n      <td>8:24.9</td>\n      <td>4,000m</td>\n      <td>2:06.2</td>\n      <td>November 15, 2018</td>\n      <td>Web</td>\n      <td>14-03-2021 14:03:42</td>\n      <td>NaN</td>\n      <td>NaN</td>\n    </tr>\n    <tr>\n      <th>331745</th>\n      <td>34790536</td>\n      <td>27.0</td>\n      <td>Female</td>\n      <td>NaN</td>\n      <td>United States</td>\n      <td>Yes</td>\n      <td>BikeErg</td>\n      <td>8:25.6</td>\n      <td>4,000m</td>\n      <td>2:06.4</td>\n      <td>September 22, 2018 13:09:00</td>\n      <td>ErgData Android</td>\n      <td>14-03-2021 14:03:42</td>\n      <td>NaN</td>\n      <td>NaN</td>\n    </tr>\n    <tr>\n      <th>331746</th>\n      <td>35223315</td>\n      <td>36.0</td>\n      <td>Female</td>\n      <td>NaN</td>\n      <td>Belgium</td>\n      <td>No</td>\n      <td>BikeErg</td>\n      <td>8:34.3</td>\n      <td>4,000m</td>\n      <td>2:08.5</td>\n      <td>October 28, 2018</td>\n      <td>Web</td>\n      <td>14-03-2021 14:03:43</td>\n      <td>NaN</td>\n      <td>NaN</td>\n    </tr>\n  </tbody>\n</table>\n<p>331747 rows × 15 columns</p>\n</div>"
     },
     "metadata": {}
    },
    {
     "output_type": "display_data",
     "data": {
      "text/plain": "        workout_id  pos.               name  age           location country  \\\n0         51157298     1     Benjamin Smith   32      Brisbane, QLD     AUS   \n1         49949686     2  Frederick Hancock   19                NaN     GBR   \n2         48271042     3         Jasper Liu   26                NaN     USA   \n3         45106891     4        Itai Almogy   18                NaN     USA   \n4         48223141     5         Chris Gray   29        Raleigh, NC     USA   \n...            ...   ...                ...  ...                ...     ...   \n331939    38060086    42      Steven Meador   63     Hershey 🇺🇸, PA     USA   \n331940    36865147     1      Kirsten Kline   30        Houston, TX     USA   \n331941    34894246     2        Katrin Jüch   42          Pattensen     GER   \n331942    33478889     3       Terry Laskey   64    Morrisville, VT     USA   \n331943    36343943     4           Fei Yuan   36  Fresh Meadows, NY     USA   \n\n                                   club/affiliation  distance verified  year  \\\n0                                               NaN     397.0      Yes  2021   \n1                                      Forum Flyers     389.0      Yes  2021   \n2                                               NaN     386.0      Yes  2021   \n3                                               NaN     379.0      Yes  2021   \n4       University of North Carolina at Chapel Hill     372.0      Yes  2021   \n...                                             ...       ...      ...   ...   \n331939           Washington University in St. Louis       NaN      Yes  2019   \n331940                       Engine by Carson (EBC)       NaN      Yes  2019   \n331941                               Mobility3sixty       NaN      Yes  2019   \n331942               Concept2, Inc, Morrisville, VT       NaN      Yes  2019   \n331943                            CrossFit Flushing       NaN       No  2019   \n\n        machine   event            retrieved  profile_id  rower weight gender  \\\n0         rower       1  13-03-2021 12:24:35   1157105.0  rower      L      M   \n1         rower       1  13-03-2021 12:24:35   1301914.0  rower      L      M   \n2         rower       1  13-03-2021 12:24:35   1120032.0  rower      L      M   \n3         rower       1  13-03-2021 12:24:35   1189208.0  rower      L      M   \n4         rower       1  13-03-2021 12:24:35    451524.0  rower      L      M   \n...         ...     ...                  ...         ...    ...    ...    ...   \n331939  bikeerg  100000  14-03-2021 04:06:48   1060250.0    NaN    NaN      M   \n331940  bikeerg  100000  14-03-2021 04:06:50   1223199.0    NaN    NaN      F   \n331941  bikeerg  100000  14-03-2021 04:06:50   1189710.0    NaN    NaN      F   \n331942  bikeerg  100000  14-03-2021 04:06:50      7270.0    NaN    NaN      F   \n331943  bikeerg  100000  14-03-2021 04:06:50   1214385.0    NaN    NaN      F   \n\n       adaptive category       time  \n0           NaN      NaN        NaN  \n1           NaN      NaN        NaN  \n2           NaN      NaN        NaN  \n3           NaN      NaN        NaN  \n4           NaN      NaN        NaN  \n...         ...      ...        ...  \n331939      NaN      NaN  4:26:36.6  \n331940      NaN      NaN  3:20:23.4  \n331941      NaN      NaN  4:11:31.8  \n331942      NaN      NaN  4:33:07.0  \n331943      NaN      NaN  4:44:30.4  \n\n[331944 rows x 20 columns]",
      "text/html": "<div>\n<style scoped>\n    .dataframe tbody tr th:only-of-type {\n        vertical-align: middle;\n    }\n\n    .dataframe tbody tr th {\n        vertical-align: top;\n    }\n\n    .dataframe thead th {\n        text-align: right;\n    }\n</style>\n<table border=\"1\" class=\"dataframe\">\n  <thead>\n    <tr style=\"text-align: right;\">\n      <th></th>\n      <th>workout_id</th>\n      <th>pos.</th>\n      <th>name</th>\n      <th>age</th>\n      <th>location</th>\n      <th>country</th>\n      <th>club/affiliation</th>\n      <th>distance</th>\n      <th>verified</th>\n      <th>year</th>\n      <th>machine</th>\n      <th>event</th>\n      <th>retrieved</th>\n      <th>profile_id</th>\n      <th>rower</th>\n      <th>weight</th>\n      <th>gender</th>\n      <th>adaptive</th>\n      <th>category</th>\n      <th>time</th>\n    </tr>\n  </thead>\n  <tbody>\n    <tr>\n      <th>0</th>\n      <td>51157298</td>\n      <td>1</td>\n      <td>Benjamin Smith</td>\n      <td>32</td>\n      <td>Brisbane, QLD</td>\n      <td>AUS</td>\n      <td>NaN</td>\n      <td>397.0</td>\n      <td>Yes</td>\n      <td>2021</td>\n      <td>rower</td>\n      <td>1</td>\n      <td>13-03-2021 12:24:35</td>\n      <td>1157105.0</td>\n      <td>rower</td>\n      <td>L</td>\n      <td>M</td>\n      <td>NaN</td>\n      <td>NaN</td>\n      <td>NaN</td>\n    </tr>\n    <tr>\n      <th>1</th>\n      <td>49949686</td>\n      <td>2</td>\n      <td>Frederick Hancock</td>\n      <td>19</td>\n      <td>NaN</td>\n      <td>GBR</td>\n      <td>Forum Flyers</td>\n      <td>389.0</td>\n      <td>Yes</td>\n      <td>2021</td>\n      <td>rower</td>\n      <td>1</td>\n      <td>13-03-2021 12:24:35</td>\n      <td>1301914.0</td>\n      <td>rower</td>\n      <td>L</td>\n      <td>M</td>\n      <td>NaN</td>\n      <td>NaN</td>\n      <td>NaN</td>\n    </tr>\n    <tr>\n      <th>2</th>\n      <td>48271042</td>\n      <td>3</td>\n      <td>Jasper Liu</td>\n      <td>26</td>\n      <td>NaN</td>\n      <td>USA</td>\n      <td>NaN</td>\n      <td>386.0</td>\n      <td>Yes</td>\n      <td>2021</td>\n      <td>rower</td>\n      <td>1</td>\n      <td>13-03-2021 12:24:35</td>\n      <td>1120032.0</td>\n      <td>rower</td>\n      <td>L</td>\n      <td>M</td>\n      <td>NaN</td>\n      <td>NaN</td>\n      <td>NaN</td>\n    </tr>\n    <tr>\n      <th>3</th>\n      <td>45106891</td>\n      <td>4</td>\n      <td>Itai Almogy</td>\n      <td>18</td>\n      <td>NaN</td>\n      <td>USA</td>\n      <td>NaN</td>\n      <td>379.0</td>\n      <td>Yes</td>\n      <td>2021</td>\n      <td>rower</td>\n      <td>1</td>\n      <td>13-03-2021 12:24:35</td>\n      <td>1189208.0</td>\n      <td>rower</td>\n      <td>L</td>\n      <td>M</td>\n      <td>NaN</td>\n      <td>NaN</td>\n      <td>NaN</td>\n    </tr>\n    <tr>\n      <th>4</th>\n      <td>48223141</td>\n      <td>5</td>\n      <td>Chris Gray</td>\n      <td>29</td>\n      <td>Raleigh, NC</td>\n      <td>USA</td>\n      <td>University of North Carolina at Chapel Hill</td>\n      <td>372.0</td>\n      <td>Yes</td>\n      <td>2021</td>\n      <td>rower</td>\n      <td>1</td>\n      <td>13-03-2021 12:24:35</td>\n      <td>451524.0</td>\n      <td>rower</td>\n      <td>L</td>\n      <td>M</td>\n      <td>NaN</td>\n      <td>NaN</td>\n      <td>NaN</td>\n    </tr>\n    <tr>\n      <th>...</th>\n      <td>...</td>\n      <td>...</td>\n      <td>...</td>\n      <td>...</td>\n      <td>...</td>\n      <td>...</td>\n      <td>...</td>\n      <td>...</td>\n      <td>...</td>\n      <td>...</td>\n      <td>...</td>\n      <td>...</td>\n      <td>...</td>\n      <td>...</td>\n      <td>...</td>\n      <td>...</td>\n      <td>...</td>\n      <td>...</td>\n      <td>...</td>\n      <td>...</td>\n    </tr>\n    <tr>\n      <th>331939</th>\n      <td>38060086</td>\n      <td>42</td>\n      <td>Steven Meador</td>\n      <td>63</td>\n      <td>Hershey 🇺🇸, PA</td>\n      <td>USA</td>\n      <td>Washington University in St. Louis</td>\n      <td>NaN</td>\n      <td>Yes</td>\n      <td>2019</td>\n      <td>bikeerg</td>\n      <td>100000</td>\n      <td>14-03-2021 04:06:48</td>\n      <td>1060250.0</td>\n      <td>NaN</td>\n      <td>NaN</td>\n      <td>M</td>\n      <td>NaN</td>\n      <td>NaN</td>\n      <td>4:26:36.6</td>\n    </tr>\n    <tr>\n      <th>331940</th>\n      <td>36865147</td>\n      <td>1</td>\n      <td>Kirsten Kline</td>\n      <td>30</td>\n      <td>Houston, TX</td>\n      <td>USA</td>\n      <td>Engine by Carson (EBC)</td>\n      <td>NaN</td>\n      <td>Yes</td>\n      <td>2019</td>\n      <td>bikeerg</td>\n      <td>100000</td>\n      <td>14-03-2021 04:06:50</td>\n      <td>1223199.0</td>\n      <td>NaN</td>\n      <td>NaN</td>\n      <td>F</td>\n      <td>NaN</td>\n      <td>NaN</td>\n      <td>3:20:23.4</td>\n    </tr>\n    <tr>\n      <th>331941</th>\n      <td>34894246</td>\n      <td>2</td>\n      <td>Katrin Jüch</td>\n      <td>42</td>\n      <td>Pattensen</td>\n      <td>GER</td>\n      <td>Mobility3sixty</td>\n      <td>NaN</td>\n      <td>Yes</td>\n      <td>2019</td>\n      <td>bikeerg</td>\n      <td>100000</td>\n      <td>14-03-2021 04:06:50</td>\n      <td>1189710.0</td>\n      <td>NaN</td>\n      <td>NaN</td>\n      <td>F</td>\n      <td>NaN</td>\n      <td>NaN</td>\n      <td>4:11:31.8</td>\n    </tr>\n    <tr>\n      <th>331942</th>\n      <td>33478889</td>\n      <td>3</td>\n      <td>Terry Laskey</td>\n      <td>64</td>\n      <td>Morrisville, VT</td>\n      <td>USA</td>\n      <td>Concept2, Inc, Morrisville, VT</td>\n      <td>NaN</td>\n      <td>Yes</td>\n      <td>2019</td>\n      <td>bikeerg</td>\n      <td>100000</td>\n      <td>14-03-2021 04:06:50</td>\n      <td>7270.0</td>\n      <td>NaN</td>\n      <td>NaN</td>\n      <td>F</td>\n      <td>NaN</td>\n      <td>NaN</td>\n      <td>4:33:07.0</td>\n    </tr>\n    <tr>\n      <th>331943</th>\n      <td>36343943</td>\n      <td>4</td>\n      <td>Fei Yuan</td>\n      <td>36</td>\n      <td>Fresh Meadows, NY</td>\n      <td>USA</td>\n      <td>CrossFit Flushing</td>\n      <td>NaN</td>\n      <td>No</td>\n      <td>2019</td>\n      <td>bikeerg</td>\n      <td>100000</td>\n      <td>14-03-2021 04:06:50</td>\n      <td>1214385.0</td>\n      <td>NaN</td>\n      <td>NaN</td>\n      <td>F</td>\n      <td>NaN</td>\n      <td>NaN</td>\n      <td>4:44:30.4</td>\n    </tr>\n  </tbody>\n</table>\n<p>331944 rows × 20 columns</p>\n</div>"
     },
     "metadata": {}
    }
   ],
   "source": [
    "#reload from CSV (faster)\n",
    "clean.load_csv(path_folder=path_folder)\n",
    "\n",
    "if clean.verbose == 1:\n",
    "    display(clean.df.athletes)\n",
    "    display(clean.df.extended)\n",
    "    display(clean.df.workouts)"
   ]
  },
  {
   "source": [
    "# Workouts\n",
    "\n",
    "Sort and rename columns for easier working"
   ],
   "cell_type": "markdown",
   "metadata": {}
  },
  {
   "cell_type": "code",
   "execution_count": 4,
   "metadata": {},
   "outputs": [],
   "source": [
    "#rename some columns\n",
    "rename_columns = {\"pos.\":\"pos\", \"club/affiliation\":\"affil\", \"category\":\"adaptive_cat\", \"weight\":\"weight_class\"}\n",
    "clean.df.workouts = clean.df.workouts.rename(columns=rename_columns)\n",
    "\n",
    "#drop some columns\n",
    "columns_to_drop = [\"retrieved\", \"name\"]\n",
    "# wingspan dropped, not enough data to be useful\n",
    "clean.df.workouts = clean.df.workouts.drop(columns_to_drop, axis=1)\n",
    "\n",
    "#sort columns alphabetically\n",
    "clean.df.workouts.sort_index(axis=1,inplace=True)\n"
   ]
  },
  {
   "source": [
    "## Missing Data\n",
    "\n",
    "### Time & Distance\n",
    "\n",
    "Fixed distance events have no distance, fixed time events have no time, can fill this in from the event."
   ],
   "cell_type": "markdown",
   "metadata": {}
  },
  {
   "cell_type": "code",
   "execution_count": 5,
   "metadata": {},
   "outputs": [],
   "source": [
    "event_to_timedistance = {\n",
    "    1:\"1:00.0\",\n",
    "    4:\"4:00.0\",\n",
    "    30:\"30:00.0\",\n",
    "    60:\"60:00.0\",\n",
    "    100:\"100\",\n",
    "    200:\"200\",\n",
    "    500:\"500\",\n",
    "    1000:\"1000\",\n",
    "    2000:\"2000\",\n",
    "    4000:\"4000\",\n",
    "    5000:\"5000\",\n",
    "    6000:\"6000\",\n",
    "    10000:\"10000\",\n",
    "    20000:\"20000\",\n",
    "    21097:\"21097\",\n",
    "    40000:\"40000\",\n",
    "    42195:\"42195\",\n",
    "    100000:\"100000\"\n",
    "}\n",
    "\n",
    "clean.df.workouts.loc[clean.df.workouts[\"time\"].isnull(), [\"time\"]] = clean.df.workouts[clean.df.workouts[\"time\"].isnull()][\"event\"].replace(event_to_timedistance)\n",
    "clean.df.workouts.loc[clean.df.workouts[\"distance\"].isnull(), [\"distance\"]] = clean.df.workouts[clean.df.workouts[\"distance\"].isnull()][\"event\"].replace(event_to_timedistance)"
   ]
  },
  {
   "cell_type": "code",
   "execution_count": 6,
   "metadata": {},
   "outputs": [
    {
     "output_type": "stream",
     "name": "stdout",
     "text": [
      "adaptive          0.791399\nadaptive_cat      0.791399\naffil            35.945521\nage             100.000000\ncountry          99.999397\ndistance        100.000000\nevent           100.000000\ngender          100.000000\nlocation         67.188743\nmachine         100.000000\npos             100.000000\nprofile_id       92.859940\nrower            90.226363\ntime            100.000000\nverified        100.000000\nweight_class     90.226363\nworkout_id      100.000000\nyear            100.000000\ndtype: float64\n"
     ]
    }
   ],
   "source": [
    "percent_complete(clean.df.workouts)"
   ]
  },
  {
   "source": [
    "### Rower/Machine\n",
    "\n",
    "Only need one of these columns, will keep machine.\n",
    "\n",
    "If machine is \"rower\", replace with the value from \"rower\", otherwise leave alone.\n"
   ],
   "cell_type": "markdown",
   "metadata": {}
  },
  {
   "cell_type": "code",
   "execution_count": 7,
   "metadata": {},
   "outputs": [],
   "source": [
    "clean.df.workouts.loc[clean.df.workouts[\"machine\"]==\"rower\",[\"machine\"]] = clean.df.workouts[clean.df.workouts[\"machine\"]==\"rower\"][\"rower\"]\n",
    "clean.df.workouts = clean.df.workouts.drop(\"rower\", axis=1)"
   ]
  },
  {
   "cell_type": "code",
   "execution_count": 8,
   "metadata": {},
   "outputs": [
    {
     "output_type": "stream",
     "name": "stdout",
     "text": [
      "adaptive          0.791399\nadaptive_cat      0.791399\naffil            35.945521\nage             100.000000\ncountry          99.999397\ndistance        100.000000\nevent           100.000000\ngender          100.000000\nlocation         67.188743\nmachine         100.000000\npos             100.000000\nprofile_id       92.859940\ntime            100.000000\nverified        100.000000\nweight_class     90.226363\nworkout_id      100.000000\nyear            100.000000\ndtype: float64\n"
     ]
    }
   ],
   "source": [
    "percent_complete(clean.df.workouts)"
   ]
  },
  {
   "source": [
    "### Adaptive\n",
    "\n",
    "Adaptive_cat contains more detail than adaptive, drop adaptive. Change nan to \"able\""
   ],
   "cell_type": "markdown",
   "metadata": {}
  },
  {
   "cell_type": "code",
   "execution_count": 9,
   "metadata": {},
   "outputs": [],
   "source": [
    "clean.df.workouts = clean.df.workouts.drop(\"adaptive\", axis=1)\n",
    "clean.df.workouts.loc[:, [\"adaptive_cat\"]] = clean.df.workouts[\"adaptive_cat\"].replace({np.nan:\"able\"})"
   ]
  },
  {
   "cell_type": "code",
   "execution_count": 10,
   "metadata": {},
   "outputs": [
    {
     "output_type": "execute_result",
     "data": {
      "text/plain": [
       "able         329317\n",
       "PR3 (PD)        832\n",
       "PR3             450\n",
       "PR3 (VI)        265\n",
       "PR3 (ID)        242\n",
       "PR2             232\n",
       "PR1             152\n",
       "STAL             75\n",
       "SIT3             65\n",
       "PR3 (SA)         49\n",
       "PR3 (AK)         48\n",
       "SIT2             47\n",
       "STA2             38\n",
       "SIT1             35\n",
       "STAN             26\n",
       "FES              25\n",
       "PR3 (GD)         20\n",
       "VI               10\n",
       "PR3 (AKD)         9\n",
       "STA1              7\n",
       "Name: adaptive_cat, dtype: int64"
      ]
     },
     "metadata": {},
     "execution_count": 10
    }
   ],
   "source": [
    "clean.df.workouts[\"adaptive_cat\"].value_counts()"
   ]
  },
  {
   "cell_type": "code",
   "execution_count": 11,
   "metadata": {},
   "outputs": [
    {
     "output_type": "stream",
     "name": "stdout",
     "text": [
      "adaptive_cat    100.000000\naffil            35.945521\nage             100.000000\ncountry          99.999397\ndistance        100.000000\nevent           100.000000\ngender          100.000000\nlocation         67.188743\nmachine         100.000000\npos             100.000000\nprofile_id       92.859940\ntime            100.000000\nverified        100.000000\nweight_class     90.226363\nworkout_id      100.000000\nyear            100.000000\ndtype: float64\n"
     ]
    }
   ],
   "source": [
    "percent_complete(clean.df.workouts)"
   ]
  },
  {
   "source": [
    "### Weight Class\n",
    "\n",
    "Skierg and bikeerg have no weight classes, turn missing vals into H"
   ],
   "cell_type": "markdown",
   "metadata": {}
  },
  {
   "cell_type": "code",
   "execution_count": 12,
   "metadata": {},
   "outputs": [],
   "source": [
    "clean.df.workouts.loc[:, [\"weight_class\"]] = clean.df.workouts[\"weight_class\"].replace({np.nan:\"H\"})"
   ]
  },
  {
   "cell_type": "code",
   "execution_count": 13,
   "metadata": {},
   "outputs": [
    {
     "output_type": "stream",
     "name": "stdout",
     "text": [
      "adaptive_cat    100.000000\naffil            35.945521\nage             100.000000\ncountry          99.999397\ndistance        100.000000\nevent           100.000000\ngender          100.000000\nlocation         67.188743\nmachine         100.000000\npos             100.000000\nprofile_id       92.859940\ntime            100.000000\nverified        100.000000\nweight_class    100.000000\nworkout_id      100.000000\nyear            100.000000\ndtype: float64\n"
     ]
    }
   ],
   "source": [
    "percent_complete(clean.df.workouts)"
   ]
  },
  {
   "source": [
    "### Country\n",
    "\n",
    "Not many, assume all missing are USA"
   ],
   "cell_type": "markdown",
   "metadata": {}
  },
  {
   "cell_type": "code",
   "execution_count": 14,
   "metadata": {},
   "outputs": [],
   "source": [
    "clean.df.workouts.loc[:, [\"country\"]] = clean.df.workouts[\"country\"].replace({np.nan:\"USA\"})"
   ]
  },
  {
   "cell_type": "code",
   "execution_count": 15,
   "metadata": {},
   "outputs": [
    {
     "output_type": "stream",
     "name": "stdout",
     "text": [
      "adaptive_cat    100.000000\naffil            35.945521\nage             100.000000\ncountry         100.000000\ndistance        100.000000\nevent           100.000000\ngender          100.000000\nlocation         67.188743\nmachine         100.000000\npos             100.000000\nprofile_id       92.859940\ntime            100.000000\nverified        100.000000\nweight_class    100.000000\nworkout_id      100.000000\nyear            100.000000\ndtype: float64\n"
     ]
    }
   ],
   "source": [
    "percent_complete(clean.df.workouts)"
   ]
  },
  {
   "source": [
    "### Affil\n",
    "\n",
    "For those with no affilation, we will give them a value of \"sol\""
   ],
   "cell_type": "markdown",
   "metadata": {}
  },
  {
   "cell_type": "code",
   "execution_count": 16,
   "metadata": {},
   "outputs": [],
   "source": [
    "clean.df.workouts.loc[:, [\"affil\"]] = clean.df.workouts[\"affil\"].replace({np.nan:\"solo\"})"
   ]
  },
  {
   "cell_type": "code",
   "execution_count": 17,
   "metadata": {},
   "outputs": [
    {
     "output_type": "stream",
     "name": "stdout",
     "text": [
      "adaptive_cat    100.000000\naffil           100.000000\nage             100.000000\ncountry         100.000000\ndistance        100.000000\nevent           100.000000\ngender          100.000000\nlocation         67.188743\nmachine         100.000000\npos             100.000000\nprofile_id       92.859940\ntime            100.000000\nverified        100.000000\nweight_class    100.000000\nworkout_id      100.000000\nyear            100.000000\ndtype: float64\n"
     ]
    }
   ],
   "source": [
    "percent_complete(clean.df.workouts)"
   ]
  },
  {
   "source": [
    "### Location\n",
    "\n",
    "Too much missing to be useful, no good way to impute date, drop the whole column."
   ],
   "cell_type": "markdown",
   "metadata": {}
  },
  {
   "cell_type": "code",
   "execution_count": 18,
   "metadata": {},
   "outputs": [],
   "source": [
    "clean.df.workouts = clean.df.workouts.drop(\"location\", axis=1)"
   ]
  },
  {
   "cell_type": "code",
   "execution_count": 19,
   "metadata": {},
   "outputs": [
    {
     "output_type": "stream",
     "name": "stdout",
     "text": [
      "adaptive_cat    100.00000\naffil           100.00000\nage             100.00000\ncountry         100.00000\ndistance        100.00000\nevent           100.00000\ngender          100.00000\nmachine         100.00000\npos             100.00000\nprofile_id       92.85994\ntime            100.00000\nverified        100.00000\nweight_class    100.00000\nworkout_id      100.00000\nyear            100.00000\ndtype: float64\n"
     ]
    }
   ],
   "source": [
    "percent_complete(clean.df.workouts)"
   ]
  },
  {
   "source": [
    "### Profile ID\n",
    "\n",
    "Without a profile ID, can't link to other workouts, drop these."
   ],
   "cell_type": "markdown",
   "metadata": {}
  },
  {
   "cell_type": "code",
   "execution_count": 20,
   "metadata": {},
   "outputs": [],
   "source": [
    "clean.df.workouts = clean.df.workouts[clean.df.workouts[\"profile_id\"].notnull()]"
   ]
  },
  {
   "cell_type": "code",
   "execution_count": 21,
   "metadata": {},
   "outputs": [
    {
     "output_type": "stream",
     "name": "stdout",
     "text": [
      "adaptive_cat    100.0\naffil           100.0\nage             100.0\ncountry         100.0\ndistance        100.0\nevent           100.0\ngender          100.0\nmachine         100.0\npos             100.0\nprofile_id      100.0\ntime            100.0\nverified        100.0\nweight_class    100.0\nworkout_id      100.0\nyear            100.0\ndtype: float64\n"
     ]
    }
   ],
   "source": [
    "percent_complete(clean.df.workouts)"
   ]
  },
  {
   "cell_type": "code",
   "execution_count": 22,
   "metadata": {},
   "outputs": [
    {
     "output_type": "stream",
     "name": "stdout",
     "text": [
      "<class 'pandas.core.frame.DataFrame'>\nInt64Index: 308243 entries, 0 to 331943\nData columns (total 15 columns):\n #   Column        Non-Null Count   Dtype  \n---  ------        --------------   -----  \n 0   adaptive_cat  308243 non-null  object \n 1   affil         308243 non-null  object \n 2   age           308243 non-null  int64  \n 3   country       308243 non-null  object \n 4   distance      308243 non-null  object \n 5   event         308243 non-null  int64  \n 6   gender        308243 non-null  object \n 7   machine       308243 non-null  object \n 8   pos           308243 non-null  int64  \n 9   profile_id    308243 non-null  float64\n 10  time          308243 non-null  object \n 11  verified      308243 non-null  object \n 12  weight_class  308243 non-null  object \n 13  workout_id    308243 non-null  int64  \n 14  year          308243 non-null  int64  \ndtypes: float64(1), int64(5), object(9)\nmemory usage: 37.6+ MB\n"
     ]
    }
   ],
   "source": [
    "clean.df.workouts.info()"
   ]
  },
  {
   "source": [
    "### Workout Time to Seconds"
   ],
   "cell_type": "markdown",
   "metadata": {}
  },
  {
   "cell_type": "code",
   "execution_count": 23,
   "metadata": {},
   "outputs": [],
   "source": [
    "clean.df.workouts[\"time\"] = clean.df.workouts[\"time\"].apply(C2A.duration_string_to_duration_seconds)"
   ]
  },
  {
   "source": [
    "### Data Types"
   ],
   "cell_type": "markdown",
   "metadata": {}
  },
  {
   "cell_type": "code",
   "execution_count": 24,
   "metadata": {},
   "outputs": [],
   "source": [
    "datatypes = {\n",
    "    \"adaptive_cat\":\"category\",\n",
    "    \"affil\":str,\n",
    "    \"age\":int,\n",
    "    \"country\":\"category\",\n",
    "    \"distance\":int,\n",
    "    \"event\":\"category\",\n",
    "    \"gender\": \"category\",\n",
    "    \"machine\":\"category\",\n",
    "    \"pos\":int,\n",
    "    \"profile_id\":int,\n",
    "    \"time\":float,\n",
    "    \"verified\":\"category\",\n",
    "    \"weight_class\":\"category\",\n",
    "    \"workout_id\":int,\n",
    "    \"year\":int\n",
    "}\n",
    "   \n",
    "clean.df.workouts  = clean.df.workouts.astype(datatypes)"
   ]
  },
  {
   "cell_type": "code",
   "execution_count": 25,
   "metadata": {},
   "outputs": [
    {
     "output_type": "stream",
     "name": "stdout",
     "text": [
      "<class 'pandas.core.frame.DataFrame'>\nInt64Index: 308243 entries, 0 to 331943\nData columns (total 15 columns):\n #   Column        Non-Null Count   Dtype   \n---  ------        --------------   -----   \n 0   adaptive_cat  308243 non-null  category\n 1   affil         308243 non-null  object  \n 2   age           308243 non-null  int64   \n 3   country       308243 non-null  category\n 4   distance      308243 non-null  int64   \n 5   event         308243 non-null  category\n 6   gender        308243 non-null  category\n 7   machine       308243 non-null  category\n 8   pos           308243 non-null  int64   \n 9   profile_id    308243 non-null  int64   \n 10  time          308243 non-null  float64 \n 11  verified      308243 non-null  category\n 12  weight_class  308243 non-null  category\n 13  workout_id    308243 non-null  int64   \n 14  year          308243 non-null  int64   \ndtypes: category(7), float64(1), int64(6), object(1)\nmemory usage: 23.5+ MB\n"
     ]
    }
   ],
   "source": [
    "clean.df.workouts.info()"
   ]
  },
  {
   "source": [
    "# Athletes\n",
    "\n",
    "Sort and rename columns for easier working"
   ],
   "cell_type": "markdown",
   "metadata": {}
  },
  {
   "cell_type": "code",
   "execution_count": 26,
   "metadata": {},
   "outputs": [],
   "source": [
    "clean.df.athletes = clean.df.athletes.reset_index()\n",
    "\n",
    "#sort columns alphabetically\n",
    "clean.df.athletes.sort_index(axis=1,inplace=True)"
   ]
  },
  {
   "cell_type": "code",
   "execution_count": 27,
   "metadata": {},
   "outputs": [
    {
     "output_type": "execute_result",
     "data": {
      "text/plain": [
       "      adaptive rowing category adaptive skiing category  \\\n",
       "0                          NaN                      NaN   \n",
       "1                          NaN                      NaN   \n",
       "2                          NaN                      NaN   \n",
       "3                          NaN                      NaN   \n",
       "4                          NaN                      NaN   \n",
       "...                        ...                      ...   \n",
       "81022                      NaN                      NaN   \n",
       "81023                      NaN                      NaN   \n",
       "81024                      NaN                      NaN   \n",
       "81025                      NaN                      NaN   \n",
       "81026                      NaN                      NaN   \n",
       "\n",
       "                                       affiliation age availablity  \\\n",
       "0                                              NaN  32   available   \n",
       "1                                              NaN  26   available   \n",
       "2      University of North Carolina at Chapel Hill  29   available   \n",
       "3                                     Forum Flyers  19   available   \n",
       "4                                              NaN  19   available   \n",
       "...                                            ...  ..         ...   \n",
       "81022                                          NaN  23   available   \n",
       "81023                          Cambridge Boat Club  54   available   \n",
       "81024                                          NaN  41   available   \n",
       "81025                              Fitness Matters  43   available   \n",
       "81026                                          NaN  71   available   \n",
       "\n",
       "              country  email      height  index        location  logbook id  \\\n",
       "0           Australia    NaN   6 ft 0 in      0   Brisbane, QLD   1157105.0   \n",
       "1       United States    NaN         NaN      1             NaN   1120032.0   \n",
       "2       United States    NaN   6 ft 4 in      2     Raleigh, NC    451524.0   \n",
       "3      United Kingdom    NaN   6 ft 2 in      3             NaN   1301914.0   \n",
       "4       United States    NaN         NaN      4             NaN   1189208.0   \n",
       "...               ...    ...         ...    ...             ...         ...   \n",
       "81022   United States    NaN  5 ft 10 in  81022   Greenwich, OH   1250363.0   \n",
       "81023   United States    NaN         NaN  81023  Dorchester, MA    737313.0   \n",
       "81024   United States    NaN   5 ft 7 in  81024              UT   1210804.0   \n",
       "81025           Egypt    NaN  5 ft 10 in  81025           Cairo   1083487.0   \n",
       "81026          France    NaN   6 ft 2 in  81026  LA FERTE ALAIS   1039194.0   \n",
       "\n",
       "             member since               name  profile_id            retrieved  \\\n",
       "0      September 28, 2017     Benjamin Smith     1157105  13-03-2021 12:24:37   \n",
       "1       December 30, 2016         Jasper Liu     1120032  13-03-2021 12:24:37   \n",
       "2       November 22, 2007         Chris Gray      451524  13-03-2021 12:24:38   \n",
       "3       December 04, 2019  Frederick Hancock     1301914  13-03-2021 12:24:38   \n",
       "4          March 08, 2018        Itai Almogy     1189208  13-03-2021 12:24:38   \n",
       "...                   ...                ...         ...                  ...   \n",
       "81022   February 08, 2019          John Oney     1250363  14-03-2021 14:03:20   \n",
       "81023  September 28, 2008        Alan Aikens      737313  14-03-2021 14:03:20   \n",
       "81024     August 18, 2018       George Watts     1210804  14-03-2021 14:03:23   \n",
       "81025   February 21, 2016      Amir Mishriky     1083487  14-03-2021 14:03:29   \n",
       "81026   February 22, 2015       HELIN GERARD     1039194  14-03-2021 14:03:38   \n",
       "\n",
       "                                team  website  weight   wingspan  \n",
       "0                       Fusion Sport      NaN  162 lb        NaN  \n",
       "1                                NaN      NaN     NaN        NaN  \n",
       "2          Row House Raleigh Midtown      NaN  190 lb        NaN  \n",
       "3          Forum Flyers (since 2001)      NaN  163 lb  6 ft 5 in  \n",
       "4                                NaN      NaN     NaN        NaN  \n",
       "...                              ...      ...     ...        ...  \n",
       "81022                            NaN      NaN  177 lb        NaN  \n",
       "81023            Cambridge Boat Club      NaN  238 lb        NaN  \n",
       "81024                            NaN      NaN  178 lb        NaN  \n",
       "81025  Fitness Matters Indoor Rowing      NaN  185 lb        NaN  \n",
       "81026                            NaN      NaN  201 lb  6 ft 4 in  \n",
       "\n",
       "[81027 rows x 19 columns]"
      ],
      "text/html": "<div>\n<style scoped>\n    .dataframe tbody tr th:only-of-type {\n        vertical-align: middle;\n    }\n\n    .dataframe tbody tr th {\n        vertical-align: top;\n    }\n\n    .dataframe thead th {\n        text-align: right;\n    }\n</style>\n<table border=\"1\" class=\"dataframe\">\n  <thead>\n    <tr style=\"text-align: right;\">\n      <th></th>\n      <th>adaptive rowing category</th>\n      <th>adaptive skiing category</th>\n      <th>affiliation</th>\n      <th>age</th>\n      <th>availablity</th>\n      <th>country</th>\n      <th>email</th>\n      <th>height</th>\n      <th>index</th>\n      <th>location</th>\n      <th>logbook id</th>\n      <th>member since</th>\n      <th>name</th>\n      <th>profile_id</th>\n      <th>retrieved</th>\n      <th>team</th>\n      <th>website</th>\n      <th>weight</th>\n      <th>wingspan</th>\n    </tr>\n  </thead>\n  <tbody>\n    <tr>\n      <th>0</th>\n      <td>NaN</td>\n      <td>NaN</td>\n      <td>NaN</td>\n      <td>32</td>\n      <td>available</td>\n      <td>Australia</td>\n      <td>NaN</td>\n      <td>6 ft 0 in</td>\n      <td>0</td>\n      <td>Brisbane, QLD</td>\n      <td>1157105.0</td>\n      <td>September 28, 2017</td>\n      <td>Benjamin Smith</td>\n      <td>1157105</td>\n      <td>13-03-2021 12:24:37</td>\n      <td>Fusion Sport</td>\n      <td>NaN</td>\n      <td>162 lb</td>\n      <td>NaN</td>\n    </tr>\n    <tr>\n      <th>1</th>\n      <td>NaN</td>\n      <td>NaN</td>\n      <td>NaN</td>\n      <td>26</td>\n      <td>available</td>\n      <td>United States</td>\n      <td>NaN</td>\n      <td>NaN</td>\n      <td>1</td>\n      <td>NaN</td>\n      <td>1120032.0</td>\n      <td>December 30, 2016</td>\n      <td>Jasper Liu</td>\n      <td>1120032</td>\n      <td>13-03-2021 12:24:37</td>\n      <td>NaN</td>\n      <td>NaN</td>\n      <td>NaN</td>\n      <td>NaN</td>\n    </tr>\n    <tr>\n      <th>2</th>\n      <td>NaN</td>\n      <td>NaN</td>\n      <td>University of North Carolina at Chapel Hill</td>\n      <td>29</td>\n      <td>available</td>\n      <td>United States</td>\n      <td>NaN</td>\n      <td>6 ft 4 in</td>\n      <td>2</td>\n      <td>Raleigh, NC</td>\n      <td>451524.0</td>\n      <td>November 22, 2007</td>\n      <td>Chris Gray</td>\n      <td>451524</td>\n      <td>13-03-2021 12:24:38</td>\n      <td>Row House Raleigh Midtown</td>\n      <td>NaN</td>\n      <td>190 lb</td>\n      <td>NaN</td>\n    </tr>\n    <tr>\n      <th>3</th>\n      <td>NaN</td>\n      <td>NaN</td>\n      <td>Forum Flyers</td>\n      <td>19</td>\n      <td>available</td>\n      <td>United Kingdom</td>\n      <td>NaN</td>\n      <td>6 ft 2 in</td>\n      <td>3</td>\n      <td>NaN</td>\n      <td>1301914.0</td>\n      <td>December 04, 2019</td>\n      <td>Frederick Hancock</td>\n      <td>1301914</td>\n      <td>13-03-2021 12:24:38</td>\n      <td>Forum Flyers (since 2001)</td>\n      <td>NaN</td>\n      <td>163 lb</td>\n      <td>6 ft 5 in</td>\n    </tr>\n    <tr>\n      <th>4</th>\n      <td>NaN</td>\n      <td>NaN</td>\n      <td>NaN</td>\n      <td>19</td>\n      <td>available</td>\n      <td>United States</td>\n      <td>NaN</td>\n      <td>NaN</td>\n      <td>4</td>\n      <td>NaN</td>\n      <td>1189208.0</td>\n      <td>March 08, 2018</td>\n      <td>Itai Almogy</td>\n      <td>1189208</td>\n      <td>13-03-2021 12:24:38</td>\n      <td>NaN</td>\n      <td>NaN</td>\n      <td>NaN</td>\n      <td>NaN</td>\n    </tr>\n    <tr>\n      <th>...</th>\n      <td>...</td>\n      <td>...</td>\n      <td>...</td>\n      <td>...</td>\n      <td>...</td>\n      <td>...</td>\n      <td>...</td>\n      <td>...</td>\n      <td>...</td>\n      <td>...</td>\n      <td>...</td>\n      <td>...</td>\n      <td>...</td>\n      <td>...</td>\n      <td>...</td>\n      <td>...</td>\n      <td>...</td>\n      <td>...</td>\n      <td>...</td>\n    </tr>\n    <tr>\n      <th>81022</th>\n      <td>NaN</td>\n      <td>NaN</td>\n      <td>NaN</td>\n      <td>23</td>\n      <td>available</td>\n      <td>United States</td>\n      <td>NaN</td>\n      <td>5 ft 10 in</td>\n      <td>81022</td>\n      <td>Greenwich, OH</td>\n      <td>1250363.0</td>\n      <td>February 08, 2019</td>\n      <td>John Oney</td>\n      <td>1250363</td>\n      <td>14-03-2021 14:03:20</td>\n      <td>NaN</td>\n      <td>NaN</td>\n      <td>177 lb</td>\n      <td>NaN</td>\n    </tr>\n    <tr>\n      <th>81023</th>\n      <td>NaN</td>\n      <td>NaN</td>\n      <td>Cambridge Boat Club</td>\n      <td>54</td>\n      <td>available</td>\n      <td>United States</td>\n      <td>NaN</td>\n      <td>NaN</td>\n      <td>81023</td>\n      <td>Dorchester, MA</td>\n      <td>737313.0</td>\n      <td>September 28, 2008</td>\n      <td>Alan Aikens</td>\n      <td>737313</td>\n      <td>14-03-2021 14:03:20</td>\n      <td>Cambridge Boat Club</td>\n      <td>NaN</td>\n      <td>238 lb</td>\n      <td>NaN</td>\n    </tr>\n    <tr>\n      <th>81024</th>\n      <td>NaN</td>\n      <td>NaN</td>\n      <td>NaN</td>\n      <td>41</td>\n      <td>available</td>\n      <td>United States</td>\n      <td>NaN</td>\n      <td>5 ft 7 in</td>\n      <td>81024</td>\n      <td>UT</td>\n      <td>1210804.0</td>\n      <td>August 18, 2018</td>\n      <td>George Watts</td>\n      <td>1210804</td>\n      <td>14-03-2021 14:03:23</td>\n      <td>NaN</td>\n      <td>NaN</td>\n      <td>178 lb</td>\n      <td>NaN</td>\n    </tr>\n    <tr>\n      <th>81025</th>\n      <td>NaN</td>\n      <td>NaN</td>\n      <td>Fitness Matters</td>\n      <td>43</td>\n      <td>available</td>\n      <td>Egypt</td>\n      <td>NaN</td>\n      <td>5 ft 10 in</td>\n      <td>81025</td>\n      <td>Cairo</td>\n      <td>1083487.0</td>\n      <td>February 21, 2016</td>\n      <td>Amir Mishriky</td>\n      <td>1083487</td>\n      <td>14-03-2021 14:03:29</td>\n      <td>Fitness Matters Indoor Rowing</td>\n      <td>NaN</td>\n      <td>185 lb</td>\n      <td>NaN</td>\n    </tr>\n    <tr>\n      <th>81026</th>\n      <td>NaN</td>\n      <td>NaN</td>\n      <td>NaN</td>\n      <td>71</td>\n      <td>available</td>\n      <td>France</td>\n      <td>NaN</td>\n      <td>6 ft 2 in</td>\n      <td>81026</td>\n      <td>LA FERTE ALAIS</td>\n      <td>1039194.0</td>\n      <td>February 22, 2015</td>\n      <td>HELIN GERARD</td>\n      <td>1039194</td>\n      <td>14-03-2021 14:03:38</td>\n      <td>NaN</td>\n      <td>NaN</td>\n      <td>201 lb</td>\n      <td>6 ft 4 in</td>\n    </tr>\n  </tbody>\n</table>\n<p>81027 rows × 19 columns</p>\n</div>"
     },
     "metadata": {},
     "execution_count": 27
    }
   ],
   "source": [
    "clean.df.athletes"
   ]
  },
  {
   "source": [
    "# Drop Columns\n",
    "\n",
    "Drop some useless columns"
   ],
   "cell_type": "markdown",
   "metadata": {}
  },
  {
   "cell_type": "code",
   "execution_count": 28,
   "metadata": {},
   "outputs": [],
   "source": [
    "columns_to_drop = [\"location\", \"index\", \"website\", \"email\", \"wingspan\", \"team\", \"availablity\", \"retrieved\", \"name\"]\n",
    "# wingspan dropped, not enough data to be useful\n",
    "clean.df.athletes = clean.df.athletes.drop(columns_to_drop, axis=1)"
   ]
  },
  {
   "source": [
    "## Adaptive, Affiliation\n",
    "\n",
    "nan to able/solo"
   ],
   "cell_type": "markdown",
   "metadata": {}
  },
  {
   "cell_type": "code",
   "execution_count": 29,
   "metadata": {},
   "outputs": [],
   "source": [
    "clean.df.athletes.loc[:, [\"adaptive rowing category\"]] = clean.df.athletes[\"adaptive rowing category\"].replace({np.nan:\"able\"})\n",
    "clean.df.athletes.loc[:, [\"adaptive skiing category\"]] = clean.df.athletes[\"adaptive skiing category\"].replace({np.nan:\"able\"})\n",
    "clean.df.athletes.loc[:, [\"affiliation\"]] = clean.df.athletes[\"affiliation\"].replace({np.nan:\"solo\"})"
   ]
  },
  {
   "cell_type": "code",
   "execution_count": 30,
   "metadata": {},
   "outputs": [
    {
     "output_type": "stream",
     "name": "stdout",
     "text": [
      "adaptive rowing category    100.000000\nadaptive skiing category    100.000000\naffiliation                 100.000000\nage                          92.675281\ncountry                      92.675281\nheight                       45.768694\nlogbook id                   92.675281\nmember since                 92.675281\nprofile_id                  100.000000\nweight                       50.560924\ndtype: float64\n"
     ]
    }
   ],
   "source": [
    "percent_complete(clean.df.athletes)"
   ]
  },
  {
   "source": [
    "## Logbook id\n",
    "\n",
    "A missing logbook ID also indicates we are missing age, weight and other key paramters, drop all records with missing logbook id"
   ],
   "cell_type": "markdown",
   "metadata": {}
  },
  {
   "cell_type": "code",
   "execution_count": 31,
   "metadata": {},
   "outputs": [],
   "source": [
    "clean.df.athletes = clean.df.athletes[clean.df.athletes[\"logbook id\"].notnull()]"
   ]
  },
  {
   "cell_type": "code",
   "execution_count": 32,
   "metadata": {},
   "outputs": [
    {
     "output_type": "stream",
     "name": "stdout",
     "text": [
      "adaptive rowing category    100.000000\nadaptive skiing category    100.000000\naffiliation                 100.000000\nage                         100.000000\ncountry                     100.000000\nheight                       49.386086\nlogbook id                  100.000000\nmember since                100.000000\nprofile_id                  100.000000\nweight                       54.557077\ndtype: float64\n"
     ]
    }
   ],
   "source": [
    "percent_complete(clean.df.athletes)"
   ]
  },
  {
   "source": [
    "### Height and Weight\n",
    "\n",
    "Convert to metric, unitless values, convert/remove impossible values.\n",
    "\n",
    "Some values missing, will impute later"
   ],
   "cell_type": "markdown",
   "metadata": {}
  },
  {
   "cell_type": "code",
   "execution_count": 33,
   "metadata": {},
   "outputs": [],
   "source": [
    "clean.df.athletes.loc[:, [\"height\"]] = C2A.convert_heights(clean.df.athletes[\"height\"])\n",
    "clean.df.athletes.loc[:, [\"height\"]] = clean.df.athletes[\"height\"].apply(C2A.clean_heights)"
   ]
  },
  {
   "cell_type": "code",
   "execution_count": 34,
   "metadata": {},
   "outputs": [
    {
     "output_type": "stream",
     "name": "stdout",
     "text": [
      "adaptive rowing category    100.000000\nadaptive skiing category    100.000000\naffiliation                 100.000000\nage                         100.000000\ncountry                     100.000000\nheight                       49.234273\nlogbook id                  100.000000\nmember since                100.000000\nprofile_id                  100.000000\nweight                       54.557077\ndtype: float64\n"
     ]
    }
   ],
   "source": [
    "percent_complete(clean.df.athletes)"
   ]
  },
  {
   "cell_type": "code",
   "execution_count": 35,
   "metadata": {},
   "outputs": [
    {
     "output_type": "stream",
     "name": "stdout",
     "text": [
      "0        162\n1        NaN\n2        190\n3        163\n4        NaN\n        ... \n81022    177\n81023    238\n81024    178\n81025    185\n81026    201\nName: weight, Length: 75092, dtype: object\n"
     ]
    }
   ],
   "source": [
    "clean.df.athletes.loc[:, [\"weight\"]] = C2A.convert_weights(clean.df.athletes[\"weight\"])"
   ]
  },
  {
   "cell_type": "code",
   "execution_count": 36,
   "metadata": {},
   "outputs": [],
   "source": [
    "weight_threshold = 300\n",
    "clean.df.athletes.loc[:,[\"weight\"]] = clean.df.athletes[\"weight\"].map(lambda x: np.nan if (x > weight_threshold) else x)"
   ]
  },
  {
   "cell_type": "code",
   "execution_count": 37,
   "metadata": {},
   "outputs": [
    {
     "output_type": "stream",
     "name": "stdout",
     "text": [
      "adaptive rowing category    100.000000\nadaptive skiing category    100.000000\naffiliation                 100.000000\nage                         100.000000\ncountry                     100.000000\nheight                       49.234273\nlogbook id                  100.000000\nmember since                100.000000\nprofile_id                  100.000000\nweight                       54.537101\ndtype: float64\n"
     ]
    }
   ],
   "source": [
    "percent_complete(clean.df.athletes)"
   ]
  },
  {
   "source": [
    "### Dates\n",
    "\n",
    "Convert all date string to datetime"
   ],
   "cell_type": "markdown",
   "metadata": {}
  },
  {
   "cell_type": "code",
   "execution_count": null,
   "metadata": {},
   "outputs": [],
   "source": []
  },
  {
   "cell_type": "code",
   "execution_count": 38,
   "metadata": {},
   "outputs": [],
   "source": [
    "col_list = [\"member since\"]\n",
    "\n",
    "for col in col_list:\n",
    "    clean.df.athletes[col] = clean.df.athletes[col].apply(C2A.convert_to_datetime)"
   ]
  },
  {
   "source": [
    "### Age\n",
    "\n",
    "Some ages not present (\"-\"), small amount, drop from dataset"
   ],
   "cell_type": "markdown",
   "metadata": {}
  },
  {
   "cell_type": "code",
   "execution_count": 39,
   "metadata": {},
   "outputs": [
    {
     "output_type": "stream",
     "name": "stdout",
     "text": [
      "adaptive rowing category    100.000000\nadaptive skiing category    100.000000\naffiliation                 100.000000\nage                         100.000000\ncountry                     100.000000\nheight                       49.200970\nlogbook id                  100.000000\nmember since                100.000000\nprofile_id                  100.000000\nweight                       54.543019\ndtype: float64\n"
     ]
    }
   ],
   "source": [
    "clean.df.athletes.loc[:,[\"age\"]] = clean.df.athletes[\"age\"].replace(\"-\", np.nan)\n",
    "clean.df.athletes = clean.df.athletes[clean.df.athletes[\"age\"].notnull()]\n",
    "percent_complete(clean.df.athletes)"
   ]
  },
  {
   "source": [
    "### Data Types\n",
    "\n",
    "Change Data Types"
   ],
   "cell_type": "markdown",
   "metadata": {}
  },
  {
   "cell_type": "code",
   "execution_count": 40,
   "metadata": {},
   "outputs": [],
   "source": [
    "datatypes = {\n",
    "    \"adaptive rowing category\":\"category\",\n",
    "    \"adaptive skiing category\":\"category\",\n",
    "    \"affiliation\":str,\n",
    "    \"age\":int,\n",
    "    \"country\":\"category\",\n",
    "    \"height\":float,\n",
    "    \"logbook id\":str,\n",
    "    \"member since\": \"datetime64\",\n",
    "    \"profile_id\":int,\n",
    "    \"weight\":float\n",
    "}\n",
    "   \n",
    "clean.df.athletes  = clean.df.athletes.astype(datatypes)"
   ]
  },
  {
   "cell_type": "code",
   "execution_count": 41,
   "metadata": {},
   "outputs": [
    {
     "output_type": "stream",
     "name": "stdout",
     "text": [
      "<class 'pandas.core.frame.DataFrame'>\nInt64Index: 74653 entries, 0 to 81026\nData columns (total 10 columns):\n #   Column                    Non-Null Count  Dtype         \n---  ------                    --------------  -----         \n 0   adaptive rowing category  74653 non-null  category      \n 1   adaptive skiing category  74653 non-null  category      \n 2   affiliation               74653 non-null  object        \n 3   age                       74653 non-null  int64         \n 4   country                   74653 non-null  category      \n 5   height                    36730 non-null  float64       \n 6   logbook id                74653 non-null  object        \n 7   member since              74653 non-null  datetime64[ns]\n 8   profile_id                74653 non-null  int64         \n 9   weight                    40718 non-null  float64       \ndtypes: category(3), datetime64[ns](1), float64(2), int64(2), object(2)\nmemory usage: 4.8+ MB\n"
     ]
    }
   ],
   "source": [
    "clean.df.athletes.info()"
   ]
  },
  {
   "cell_type": "code",
   "execution_count": 76,
   "metadata": {},
   "outputs": [],
   "source": [
    "clean.df.athletes.to_csv(\"analysis/athletes_clean.csv\")\n",
    "clean.df.workouts.to_csv(\"analysis/workouts_clean.csv\")"
   ]
  }
 ]
}