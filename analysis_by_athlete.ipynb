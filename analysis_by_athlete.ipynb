{
 "metadata": {
  "language_info": {
   "codemirror_mode": {
    "name": "ipython",
    "version": 3
   },
   "file_extension": ".py",
   "mimetype": "text/x-python",
   "name": "python",
   "nbconvert_exporter": "python",
   "pygments_lexer": "ipython3",
   "version": 3
  },
  "orig_nbformat": 2
 },
 "nbformat": 4,
 "nbformat_minor": 2,
 "cells": [
  {
   "cell_type": "code",
   "execution_count": null,
   "metadata": {},
   "outputs": [],
   "source": [
    "import json\n",
    "import pandas as pd\n",
    "import C2Analyse\n",
    "import C2Analyse as C2A\n",
    "import matplotlib.pyplot as plt\n",
    "import importlib\n",
    "import re\n",
    "import missingno as msno\n",
    "import plotly.express as px\n",
    "import numpy as np\n",
    "from datetime import datetime\n",
    "importlib.reload(C2A)\n",
    "from sklearn.impute import KNNImputer\n",
    "from sklearn.preprocessing import LabelBinarizer, LabelEncoder\n",
    "\n",
    "pd.options.display.max_columns = None\n",
    "reload_data = 1"
   ]
  }
 ]
}